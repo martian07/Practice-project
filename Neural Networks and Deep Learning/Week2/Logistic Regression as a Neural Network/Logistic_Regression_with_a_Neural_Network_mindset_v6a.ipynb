{
 "cells": [
  {
   "cell_type": "markdown",
   "metadata": {},
   "source": [
    "# Logistic Regression with a Neural Network mindset\n",
    "\n",
    "Welcome to your first (required) programming assignment! You will build a logistic regression classifier to recognize  cats. This assignment will step you through how to do this with a Neural Network mindset, and so will also hone your intuitions about deep learning.\n",
    "\n",
    "**Instructions:**\n",
    "- Do not use loops (for/while) in your code, unless the instructions explicitly ask you to do so.\n",
    "\n",
    "**You will learn to:**\n",
    "- Build the general architecture of a learning algorithm, including:\n",
    "    - Initializing parameters\n",
    "    - Calculating the cost function and its gradient\n",
    "    - Using an optimization algorithm (gradient descent) \n",
    "- Gather all three functions above into a main model function, in the right order."
   ]
  },
  {
   "cell_type": "markdown",
   "metadata": {},
   "source": [
    "## <font color='darkblue'>Updates</font>\n",
    "This notebook has been updated over the past few months.  The prior version was named \"v5\", and the current versionis now named '6a'\n",
    "\n",
    "#### If you were working on a previous version:\n",
    "* You can find your prior work by looking in the file directory for the older files (named by version name).\n",
    "* To view the file directory, click on the \"Coursera\" icon in the top left corner of this notebook.\n",
    "* Please copy your work from the older versions to the new version, in order to submit your work for grading.\n",
    "\n",
    "#### List of Updates\n",
    "* Forward propagation formula, indexing now starts at 1 instead of 0.\n",
    "* Optimization function comment now says \"print cost every 100 training iterations\" instead of \"examples\".\n",
    "* Fixed grammar in the comments.\n",
    "* Y_prediction_test variable name is used consistently.\n",
    "* Plot's axis label now says \"iterations (hundred)\" instead of \"iterations\".\n",
    "* When testing the model, the test image is normalized by dividing by 255."
   ]
  },
  {
   "cell_type": "markdown",
   "metadata": {},
   "source": [
    "## 1 - Packages ##\n",
    "\n",
    "First, let's run the cell below to import all the packages that you will need during this assignment. \n",
    "- [numpy](www.numpy.org) is the fundamental package for scientific computing with Python.\n",
    "- [h5py](http://www.h5py.org) is a common package to interact with a dataset that is stored on an H5 file.\n",
    "- [matplotlib](http://matplotlib.org) is a famous library to plot graphs in Python.\n",
    "- [PIL](http://www.pythonware.com/products/pil/) and [scipy](https://www.scipy.org/) are used here to test your model with your own picture at the end."
   ]
  },
  {
   "cell_type": "code",
   "execution_count": 54,
   "metadata": {},
   "outputs": [],
   "source": [
    "import numpy as np\n",
    "import matplotlib.pyplot as plt\n",
    "import h5py\n",
    "import scipy\n",
    "from PIL import Image\n",
    "from scipy import ndimage\n",
    "from lr_utils import load_dataset\n",
    "\n",
    "%matplotlib inline"
   ]
  },
  {
   "cell_type": "markdown",
   "metadata": {},
   "source": [
    "## 2 - Overview of the Problem set ##\n",
    "\n",
    "**Problem Statement**: You are given a dataset (\"data.h5\") containing:\n",
    "    - a training set of m_train images labeled as cat (y=1) or non-cat (y=0)\n",
    "    - a test set of m_test images labeled as cat or non-cat\n",
    "    - each image is of shape (num_px, num_px, 3) where 3 is for the 3 channels (RGB). Thus, each image is square (height = num_px) and (width = num_px).\n",
    "\n",
    "You will build a simple image-recognition algorithm that can correctly classify pictures as cat or non-cat.\n",
    "\n",
    "Let's get more familiar with the dataset. Load the data by running the following code."
   ]
  },
  {
   "cell_type": "code",
   "execution_count": 55,
   "metadata": {},
   "outputs": [],
   "source": [
    "# Loading the data (cat/non-cat)\n",
    "train_set_x_orig, train_set_y, test_set_x_orig, test_set_y, classes = load_dataset()"
   ]
  },
  {
   "cell_type": "markdown",
   "metadata": {},
   "source": [
    "We added \"_orig\" at the end of image datasets (train and test) because we are going to preprocess them. After preprocessing, we will end up with train_set_x and test_set_x (the labels train_set_y and test_set_y don't need any preprocessing).\n",
    "\n",
    "Each line of your train_set_x_orig and test_set_x_orig is an array representing an image. You can visualize an example by running the following code. Feel free also to change the `index` value and re-run to see other images. "
   ]
  },
  {
   "cell_type": "code",
   "execution_count": 57,
   "metadata": {},
   "outputs": [
    {
     "name": "stdout",
     "output_type": "stream",
     "text": [
      "y = 1, it's a 'cat' picture.\n"
     ]
    },
    {
     "data": {
      "image/png": "[encoded data removed]",
      "text/plain": [
       "<Figure size 432x288 with 1 Axes>"
      ]
     },
     "metadata": {
      "needs_background": "light"
     },
     "output_type": "display_data"
    }
   ],
   "source": [
    "# Example of a picture\n",
    "index =60\n",
    "plt.imshow(train_set_x_orig[index])\n",
    "print (\"y = \" + str(train_set_y[0, index]) + \", it's a '\" + classes[np.squeeze(train_set_y[:, index])].decode(\"utf-8\") +  \"' picture.\")"
   ]
  },
  {
   "cell_type": "markdown",
   "metadata": {},
   "source": [
    "Many software bugs in deep learning come from having matrix/vector dimensions that don't fit. If you can keep your matrix/vector dimensions straight you will go a long way toward eliminating many bugs. \n",
    "\n",
    "**Exercise:** Find the values for:\n",
    "    - m_train (number of training examples)\n",
    "    - m_test (number of test examples)\n",
    "    - num_px (= height = width of a training image)\n",
    "Remember that `train_set_x_orig` is a numpy-array of shape (m_train, num_px, num_px, 3). For instance, you can access `m_train` by writing `train_set_x_orig.shape[0]`."
   ]
  },
  {
   "cell_type": "code",
   "execution_count": 58,
   "metadata": {
    "scrolled": true
   },
   "outputs": [
    {
     "name": "stdout",
     "output_type": "stream",
     "text": [
      "Number of training examples: m_train = 209\n",
      "Number of testing examples: m_test = 50\n",
      "Height/Width of each image: num_px = 64\n",
      "Each image is of size: (64, 64, 3)\n",
      "train_set_x shape: (209, 64, 64, 3)\n",
      "train_set_y shape: (1, 209)\n",
      "test_set_x shape: (50, 64, 64, 3)\n",
      "test_set_y shape: (1, 50)\n"
     ]
    }
   ],
   "source": [
    "### START CODE HERE ### (≈ 3 lines of code)\n",
    "m_train = train_set_x_orig.shape[0]\n",
    "m_test =  test_set_x_orig.shape[0]\n",
    "num_px = train_set_x_orig.shape[1]\n",
    "### END CODE HERE ###\n",
    "\n",
    "print (\"Number of training examples: m_train = \" + str(m_train))\n",
    "print (\"Number of testing examples: m_test = \" + str(m_test))\n",
    "print (\"Height/Width of each image: num_px = \" + str(num_px))\n",
    "print (\"Each image is of size: (\" + str(num_px) + \", \" + str(num_px) + \", 3)\")\n",
    "print (\"train_set_x shape: \" + str(train_set_x_orig.shape))\n",
    "print (\"train_set_y shape: \" + str(train_set_y.shape))\n",
    "print (\"test_set_x shape: \" + str(test_set_x_orig.shape))\n",
    "print (\"test_set_y shape: \" + str(test_set_y.shape))"
   ]
  },
  {
   "cell_type": "markdown",
   "metadata": {},
   "source": [
    "**Expected Output for m_train, m_test and num_px**: \n",
    "<table style=\"width:15%\">\n",
    "  <tr>\n",
    "    <td>**m_train**</td>\n",
    "    <td> 209 </td> \n",
    "  </tr>\n",
    "  \n",
    "  <tr>\n",
    "    <td>**m_test**</td>\n",
    "    <td> 50 </td> \n",
    "  </tr>\n",
    "  \n",
    "  <tr>\n",
    "    <td>**num_px**</td>\n",
    "    <td> 64 </td> \n",
    "  </tr>\n",
    "  \n",
    "</table>\n"
   ]
  },
  {
   "cell_type": "markdown",
   "metadata": {},
   "source": [
    "For convenience, you should now reshape images of shape (num_px, num_px, 3) in a numpy-array of shape (num_px $*$ num_px $*$ 3, 1). After this, our training (and test) dataset is a numpy-array where each column represents a flattened image. There should be m_train (respectively m_test) columns.\n",
    "\n",
    "**Exercise:** Reshape the training and test data sets so that images of size (num_px, num_px, 3) are flattened into single vectors of shape (num\\_px $*$ num\\_px $*$ 3, 1).\n",
    "\n",
    "A trick when you want to flatten a matrix X of shape (a,b,c,d) to a matrix X_flatten of shape (b$*$c$*$d, a) is to use: \n",
    "```python\n",
    "X_flatten = X.reshape(X.shape[0], -1).T      # X.T is the transpose of X\n",
    "```"
   ]
  },
  {
   "cell_type": "code",
   "execution_count": 60,
   "metadata": {},
   "outputs": [
    {
     "name": "stdout",
     "output_type": "stream",
     "text": [
      "train_set_x_flatten shape: (12288, 209)\n",
      "train_set_y shape: (1, 209)\n",
      "test_set_x_flatten shape: (12288, 50)\n",
      "test_set_y shape: (1, 50)\n",
      "sanity check after reshaping: [17 71 49 38 70]\n"
     ]
    }
   ],
   "source": [
    "# Reshape the training and test examples\n",
    "\n",
    "### START CODE HERE ### (≈ 2 lines of code)\n",
    "train_set_x_flatten = train_set_x_orig.reshape(train_set_x_orig.shape[1]*train_set_x_orig.shape[2]*train_set_x_orig.shape[3],train_set_x_orig.shape[0])\n",
    "test_set_x_flatten = test_set_x_orig.reshape(test_set_x_orig.shape[1]*test_set_x_orig.shape[2]*test_set_x_orig.shape[3],test_set_x_orig.shape[0])\n",
    "### END CODE HERE ###\n",
    "\n",
    "print (\"train_set_x_flatten shape: \" + str(train_set_x_flatten.shape))\n",
    "print (\"train_set_y shape: \" + str(train_set_y.shape))\n",
    "print (\"test_set_x_flatten shape: \" + str(test_set_x_flatten.shape))\n",
    "print (\"test_set_y shape: \" + str(test_set_y.shape))\n",
    "print (\"sanity check after reshaping: \" + str(train_set_x_flatten[0:5,0]))"
   ]
  },
  {
   "cell_type": "markdown",
   "metadata": {},
   "source": [
    "**Expected Output**: \n",
    "\n",
    "<table style=\"width:35%\">\n",
    "  <tr>\n",
    "    <td>**train_set_x_flatten shape**</td>\n",
    "    <td> (12288, 209)</td> \n",
    "  </tr>\n",
    "  <tr>\n",
    "    <td>**train_set_y shape**</td>\n",
    "    <td>(1, 209)</td> \n",
    "  </tr>\n",
    "  <tr>\n",
    "    <td>**test_set_x_flatten shape**</td>\n",
    "    <td>(12288, 50)</td> \n",
    "  </tr>\n",
    "  <tr>\n",
    "    <td>**test_set_y shape**</td>\n",
    "    <td>(1, 50)</td> \n",
    "  </tr>\n",
    "  <tr>\n",
    "  <td>**sanity check after reshaping**</td>\n",
    "  <td>[17 31 56 22 33]</td> \n",
    "  </tr>\n",
    "</table>"
   ]
  },
  {
   "cell_type": "markdown",
   "metadata": {},
   "source": [
    "To represent color images, the red, green and blue channels (RGB) must be specified for each pixel, and so the pixel value is actually a vector of three numbers ranging from 0 to 255.\n",
    "\n",
    "One common preprocessing step in machine learning is to center and standardize your dataset, meaning that you substract the mean of the whole numpy array from each example, and then divide each example by the standard deviation of the whole numpy array. But for picture datasets, it is simpler and more convenient and works almost as well to just divide every row of the dataset by 255 (the maximum value of a pixel channel).\n",
    "\n",
    "<!-- During the training of your model, you're going to multiply weights and add biases to some initial inputs in order to observe neuron activations. Then you backpropogate with the gradients to train the model. But, it is extremely important for each feature to have a similar range such that our gradients don't explode. You will see that more in detail later in the lectures. !--> \n",
    "\n",
    "Let's standardize our dataset."
   ]
  },
  {
   "cell_type": "code",
   "execution_count": 61,
   "metadata": {},
   "outputs": [],
   "source": [
    "train_set_x = train_set_x_flatten/255.\n",
    "test_set_x = test_set_x_flatten/255."
   ]
  },
  {
   "cell_type": "markdown",
   "metadata": {},
   "source": [
    "<font color='blue'>\n",
    "**What you need to remember:**\n",
    "\n",
    "Common steps for pre-processing a new dataset are:\n",
    "- Figure out the dimensions and shapes of the problem (m_train, m_test, num_px, ...)\n",
    "- Reshape the datasets such that each example is now a vector of size (num_px \\* num_px \\* 3, 1)\n",
    "- \"Standardize\" the data"
   ]
  },
  {
   "cell_type": "markdown",
   "metadata": {},
   "source": [
    "## 3 - General Architecture of the learning algorithm ##\n",
    "\n",
    "It's time to design a simple algorithm to distinguish cat images from non-cat images.\n",
    "\n",
    "You will build a Logistic Regression, using a Neural Network mindset. The following Figure explains why **Logistic Regression is actually a very simple Neural Network!**\n",
    "\n",
    "<img src=\"images/LogReg_kiank.png\" style=\"width:650px;height:400px;\">\n",
    "\n",
    "**Mathematical expression of the algorithm**:\n",
    "\n",
    "For one example $x^{(i)}$:\n",
    "$$z^{(i)} = w^T x^{(i)} + b \\tag{1}$$\n",
    "$$\\hat{y}^{(i)} = a^{(i)} = sigmoid(z^{(i)})\\tag{2}$$ \n",
    "$$ \\mathcal{L}(a^{(i)}, y^{(i)}) =  - y^{(i)}  \\log(a^{(i)}) - (1-y^{(i)} )  \\log(1-a^{(i)})\\tag{3}$$\n",
    "\n",
    "The cost is then computed by summing over all training examples:\n",
    "$$ J = \\frac{1}{m} \\sum_{i=1}^m \\mathcal{L}(a^{(i)}, y^{(i)})\\tag{6}$$\n",
    "\n",
    "**Key steps**:\n",
    "In this exercise, you will carry out the following steps: \n",
    "    - Initialize the parameters of the model\n",
    "    - Learn the parameters for the model by minimizing the cost  \n",
    "    - Use the learned parameters to make predictions (on the test set)\n",
    "    - Analyse the results and conclude"
   ]
  },
  {
   "cell_type": "markdown",
   "metadata": {},
   "source": [
    "## 4 - Building the parts of our algorithm ## \n",
    "\n",
    "The main steps for building a Neural Network are:\n",
    "1. Define the model structure (such as number of input features) \n",
    "2. Initialize the model's parameters\n",
    "3. Loop:\n",
    "    - Calculate current loss (forward propagation)\n",
    "    - Calculate current gradient (backward propagation)\n",
    "    - Update parameters (gradient descent)\n",
    "\n",
    "You often build 1-3 separately and integrate them into one function we call `model()`.\n",
    "\n",
    "### 4.1 - Helper functions\n",
    "\n",
    "**Exercise**: Using your code from \"Python Basics\", implement `sigmoid()`. As you've seen in the figure above, you need to compute $sigmoid( w^T x + b) = \\frac{1}{1 + e^{-(w^T x + b)}}$ to make predictions. Use np.exp()."
   ]
  },
  {
   "cell_type": "code",
   "execution_count": 8,
   "metadata": {},
   "outputs": [],
   "source": [
    "# GRADED FUNCTION: sigmoid\n",
    "\n",
    "def sigmoid(z):\n",
    "    \"\"\"\n",
    "    Compute the sigmoid of z\n",
    "\n",
    "    Arguments:\n",
    "    z -- A scalar or numpy array of any size.\n",
    "\n",
    "    Return:\n",
    "    s -- sigmoid(z)\n",
    "    \"\"\"\n",
    "\n",
    "    ### START CODE HERE ### (≈ 1 line of code)\n",
    "    s = 1/(1+np.exp(-z))\n",
    "    ### END CODE HERE ###\n",
    "    \n",
    "    return s"
   ]
  },
  {
   "cell_type": "code",
   "execution_count": 9,
   "metadata": {
    "scrolled": true
   },
   "outputs": [
    {
     "name": "stdout",
     "output_type": "stream",
     "text": [
      "sigmoid([0, 2]) = [0.5        0.88079708]\n"
     ]
    }
   ],
   "source": [
    "print (\"sigmoid([0, 2]) = \" + str(sigmoid(np.array([0,2]))))"
   ]
  },
  {
   "cell_type": "markdown",
   "metadata": {},
   "source": [
    "**Expected Output**: \n",
    "\n",
    "<table>\n",
    "  <tr>\n",
    "    <td>**sigmoid([0, 2])**</td>\n",
    "    <td> [ 0.5         0.88079708]</td> \n",
    "  </tr>\n",
    "</table>"
   ]
  },
  {
   "cell_type": "markdown",
   "metadata": {},
   "source": [
    "### 4.2 - Initializing parameters\n",
    "\n",
    "**Exercise:** Implement parameter initialization in the cell below. You have to initialize w as a vector of zeros. If you don't know what numpy function to use, look up np.zeros() in the Numpy library's documentation."
   ]
  },
  {
   "cell_type": "code",
   "execution_count": 10,
   "metadata": {},
   "outputs": [],
   "source": [
    "# GRADED FUNCTION: initialize_with_zeros\n",
    "\n",
    "def initialize_with_zeros(dim):\n",
    "    \"\"\"\n",
    "    This function creates a vector of zeros of shape (dim, 1) for w and initializes b to 0.\n",
    "    \n",
    "    Argument:\n",
    "    dim -- size of the w vector we want (or number of parameters in this case)\n",
    "    \n",
    "    Returns:\n",
    "    w -- initialized vector of shape (dim, 1)\n",
    "    b -- initialized scalar (corresponds to the bias)\n",
    "    \"\"\"\n",
    "    \n",
    "    ### START CODE HERE ### (≈ 1 line of code)\n",
    "    w = np.zeros((dim,1))\n",
    "    b = 0\n",
    "    ### END CODE HERE ###\n",
    "\n",
    "    assert(w.shape == (dim, 1))\n",
    "    assert(isinstance(b, float) or isinstance(b, int))\n",
    "    \n",
    "    return w, b"
   ]
  },
  {
   "cell_type": "code",
   "execution_count": 11,
   "metadata": {},
   "outputs": [
    {
     "data": {
      "text/plain": [
       "(12288, 209)"
      ]
     },
     "execution_count": 11,
     "metadata": {},
     "output_type": "execute_result"
    }
   ],
   "source": [
    "train_set_x.shape"
   ]
  },
  {
   "cell_type": "code",
   "execution_count": 12,
   "metadata": {},
   "outputs": [
    {
     "name": "stdout",
     "output_type": "stream",
     "text": [
      "w = [[0.]\n",
      " [0.]\n",
      " [0.]\n",
      " ...\n",
      " [0.]\n",
      " [0.]\n",
      " [0.]]\n",
      "b = 0\n"
     ]
    }
   ],
   "source": [
    "dim = train_set_x.shape[0]\n",
    "w, b = initialize_with_zeros(dim)\n",
    "print (\"w = \" + str(w))\n",
    "print (\"b = \" + str(b))"
   ]
  },
  {
   "cell_type": "markdown",
   "metadata": {},
   "source": [
    "**Expected Output**: \n",
    "\n",
    "\n",
    "<table style=\"width:15%\">\n",
    "    <tr>\n",
    "        <td>  ** w **  </td>\n",
    "        <td> [[ 0.]\n",
    " [ 0.]] </td>\n",
    "    </tr>\n",
    "    <tr>\n",
    "        <td>  ** b **  </td>\n",
    "        <td> 0 </td>\n",
    "    </tr>\n",
    "</table>\n",
    "\n",
    "For image inputs, w will be of shape (num_px $\\times$ num_px $\\times$ 3, 1)."
   ]
  },
  {
   "cell_type": "markdown",
   "metadata": {},
   "source": [
    "### 4.3 - Forward and Backward propagation\n",
    "\n",
    "Now that your parameters are initialized, you can do the \"forward\" and \"backward\" propagation steps for learning the parameters.\n",
    "\n",
    "**Exercise:** Implement a function `propagate()` that computes the cost function and its gradient.\n",
    "\n",
    "**Hints**:\n",
    "\n",
    "Forward Propagation:\n",
    "- You get X\n",
    "- You compute $A = \\sigma(w^T X + b) = (a^{(1)}, a^{(2)}, ..., a^{(m-1)}, a^{(m)})$\n",
    "- You calculate the cost function: $J = -\\frac{1}{m}\\sum_{i=1}^{m}y^{(i)}\\log(a^{(i)})+(1-y^{(i)})\\log(1-a^{(i)})$\n",
    "\n",
    "Here are the two formulas you will be using: \n",
    "\n",
    "$$ \\frac{\\partial J}{\\partial w} = \\frac{1}{m}X(A-Y)^T\\tag{7}$$\n",
    "$$ \\frac{\\partial J}{\\partial b} = \\frac{1}{m} \\sum_{i=1}^m (a^{(i)}-y^{(i)})\\tag{8}$$"
   ]
  },
  {
   "cell_type": "code",
   "execution_count": 13,
   "metadata": {},
   "outputs": [],
   "source": [
    "# GRADED FUNCTION: propagate\n",
    "def propagate(w, b, X, Y):\n",
    "    \"\"\"\n",
    "    Implement the cost function and its gradient for the propagation explained above\n",
    "\n",
    "    Arguments:\n",
    "    w -- weights, a numpy array of size (num_px * num_px * 3, 1)\n",
    "    b -- bias, a scalar\n",
    "    X -- data of size (num_px * num_px * 3, number of examples)\n",
    "    Y -- true \"label\" vector (containing 0 if non-cat, 1 if cat) of size (1, number of examples)\n",
    "\n",
    "    Return:\n",
    "    cost -- negative log-likelihood cost for logistic regression\n",
    "    dw -- gradient of the loss with respect to w, thus same shape as w\n",
    "    db -- gradient of the loss with respect to b, thus same shape as b\n",
    "    \n",
    "    Tips:\n",
    "    - Write your code step by step for the propagation. np.log(), np.dot()\n",
    "    \"\"\"\n",
    "    \n",
    "    m = X.shape[1]\n",
    "    \n",
    "    # FORWARD PROPAGATION (FROM X TO COST)\n",
    "    ### START CODE HERE ### (≈ 2 lines of code)\n",
    "    A = sigmoid(np.dot(w.T,X) + b)              # compute activation\n",
    "    cost = np.sum(((- np.log(A))*Y + (-np.log(1-A))*(1-Y)))/m  # compute cost\n",
    "    ### END CODE HERE ###\n",
    "    \n",
    "    # BACKWARD PROPAGATION (TO FIND GRAD)\n",
    "    ### START CODE HERE ### (≈ 2 lines of code)\n",
    "    dw = (np.dot(X,(A-Y).T))/m\n",
    "    db = (np.sum(A-Y))/m\n",
    "    ### END CODE HERE ###\n",
    "\n",
    "    assert(dw.shape == w.shape)\n",
    "    assert(db.dtype == float)\n",
    "    cost = np.squeeze(cost)\n",
    "    assert(cost.shape == ())\n",
    "\n",
    "    grads = {\"dw\": dw,\n",
    "             \"db\": db}\n",
    "    \n",
    "    return grads, cost"
   ]
  },
  {
   "cell_type": "code",
   "execution_count": 14,
   "metadata": {},
   "outputs": [
    {
     "name": "stdout",
     "output_type": "stream",
     "text": [
      "dw = [[0.02329487]\n",
      " [0.02855803]\n",
      " [0.03176658]\n",
      " ...\n",
      " [0.        ]\n",
      " [0.        ]\n",
      " [0.        ]]\n",
      "db = 0.15550239234449761\n",
      "cost = 0.6931471805599453\n"
     ]
    }
   ],
   "source": [
    "# w, b, X, Y = np.array([[1.],[2.]]), 2., np.array([[1.,2.,-1.],[3.,4.,-3.2]]), np.array([[1,0,1]])\n",
    "grads, cost = propagate(w, b, train_set_x,train_set_y )\n",
    "print (\"dw = \" + str(grads[\"dw\"]))\n",
    "print (\"db = \" + str(grads[\"db\"]))\n",
    "print (\"cost = \" + str(cost))"
   ]
  },
  {
   "cell_type": "markdown",
   "metadata": {},
   "source": [
    "**Expected Output**:\n",
    "\n",
    "<table style=\"width:50%\">\n",
    "    <tr>\n",
    "        <td>  ** dw **  </td>\n",
    "      <td> [[ 0.99845601]\n",
    "     [ 2.39507239]]</td>\n",
    "    </tr>\n",
    "    <tr>\n",
    "        <td>  ** db **  </td>\n",
    "        <td> 0.00145557813678 </td>\n",
    "    </tr>\n",
    "    <tr>\n",
    "        <td>  ** cost **  </td>\n",
    "        <td> 5.801545319394553 </td>\n",
    "    </tr>\n",
    "\n",
    "</table>"
   ]
  },
  {
   "cell_type": "markdown",
   "metadata": {},
   "source": [
    "### 4.4 - Optimization\n",
    "- You have initialized your parameters.\n",
    "- You are also able to compute a cost function and its gradient.\n",
    "- Now, you want to update the parameters using gradient descent.\n",
    "\n",
    "**Exercise:** Write down the optimization function. The goal is to learn $w$ and $b$ by minimizing the cost function $J$. For a parameter $\\theta$, the update rule is $ \\theta = \\theta - \\alpha \\text{ } d\\theta$, where $\\alpha$ is the learning rate."
   ]
  },
  {
   "cell_type": "code",
   "execution_count": 15,
   "metadata": {},
   "outputs": [],
   "source": [
    "# GRADED FUNCTION: optimize\n",
    "\n",
    "def optimize(w, b, X, Y, num_iterations, learning_rate, print_cost = True):\n",
    "    \"\"\"\n",
    "    This function optimizes w and b by running a gradient descent algorithm\n",
    "    \n",
    "    Arguments:\n",
    "    w -- weights, a numpy array of size (num_px * num_px * 3, 1)\n",
    "    b -- bias, a scalar\n",
    "    X -- data of shape (num_px * num_px * 3, number of examples)\n",
    "    Y -- true \"label\" vector (containing 0 if non-cat, 1 if cat), of shape (1, number of examples)\n",
    "    num_iterations -- number of iterations of the optimization loop\n",
    "    learning_rate -- learning rate of the gradient descent update rule\n",
    "    print_cost -- True to print the loss every 100 steps\n",
    "    \n",
    "    Returns:\n",
    "    params -- dictionary containing the weights w and bias b\n",
    "    grads -- dictionary containing the gradients of the weights and bias with respect to the cost function\n",
    "    costs -- list of all the costs computed during the optimization, this will be used to plot the learning curve.\n",
    "    \n",
    "    Tips:\n",
    "    You basically need to write down two steps and iterate through them:\n",
    "        1) Calculate the cost and the gradient for the current parameters. Use propagate().\n",
    "        2) Update the parameters using gradient descent rule for w and b.\n",
    "    \"\"\"\n",
    "    \n",
    "    costs = []\n",
    "    \n",
    "    for i in range(num_iterations):\n",
    "        \n",
    "        \n",
    "        # Cost and gradient calculation (≈ 1-4 lines of code)\n",
    "        ### START CODE HERE ### \n",
    "        grads, cost = propagate(w, b, X, Y)\n",
    "        ### END CODE HERE ###\n",
    "        \n",
    "        # Retrieve derivatives from grads\n",
    "        dw = grads[\"dw\"]\n",
    "        db = grads[\"db\"]\n",
    "        \n",
    "        # update rule (≈ 2 lines of code)\n",
    "        ### START CODE HERE ###\n",
    "        w = w - (learning_rate*dw)\n",
    "        b = b - (learning_rate*db)\n",
    "        ### END CODE HERE ###\n",
    "        \n",
    "        # Record the costs\n",
    "        if i % 100 == 0:\n",
    "            costs.append(cost)\n",
    "        \n",
    "        # Print the cost every 100 training iterations\n",
    "        if print_cost and i % 100 == 0:\n",
    "            print (\"Cost after iteration %i: %f\" %(i, cost))\n",
    "    \n",
    "    params = {\"w\": w,\n",
    "              \"b\": b}\n",
    "    \n",
    "    grads = {\"dw\": dw,\n",
    "             \"db\": db}\n",
    "    \n",
    "    return params, grads, costs"
   ]
  },
  {
   "cell_type": "code",
   "execution_count": 16,
   "metadata": {},
   "outputs": [
    {
     "name": "stdout",
     "output_type": "stream",
     "text": [
      "Cost after iteration 0: 0.693147\n",
      "Cost after iteration 100: 0.605784\n",
      "Cost after iteration 200: 0.589938\n",
      "Cost after iteration 300: 0.577890\n",
      "Cost after iteration 400: 0.567791\n",
      "Cost after iteration 500: 0.559013\n",
      "Cost after iteration 600: 0.551207\n",
      "Cost after iteration 700: 0.544146\n",
      "Cost after iteration 800: 0.537671\n",
      "Cost after iteration 900: 0.531668\n",
      "Cost after iteration 1000: 0.526054\n",
      "Cost after iteration 1100: 0.520764\n",
      "Cost after iteration 1200: 0.515752\n",
      "Cost after iteration 1300: 0.510979\n",
      "Cost after iteration 1400: 0.506416\n",
      "Cost after iteration 1500: 0.502039\n",
      "Cost after iteration 1600: 0.497829\n",
      "Cost after iteration 1700: 0.493769\n",
      "Cost after iteration 1800: 0.489847\n",
      "Cost after iteration 1900: 0.486051\n",
      "w = [[-3.04512551e-05]\n",
      " [-6.87957829e-04]\n",
      " [-1.32010181e-04]\n",
      " ...\n",
      " [ 0.00000000e+00]\n",
      " [ 0.00000000e+00]\n",
      " [ 0.00000000e+00]]\n",
      "b = -0.00028951555566090873\n",
      "dw = [[-7.31431548e-05]\n",
      " [ 4.43980339e-05]\n",
      " [ 2.83418577e-05]\n",
      " ...\n",
      " [ 0.00000000e+00]\n",
      " [ 0.00000000e+00]\n",
      " [ 0.00000000e+00]]\n",
      "db = 1.0099237705645162e-05\n"
     ]
    }
   ],
   "source": [
    "params, grads, costs = optimize(w, b, train_set_x, train_set_y, num_iterations= 2000, learning_rate = 0.001, print_cost = True)\n",
    "\n",
    "print (\"w = \" + str(params[\"w\"]))\n",
    "print (\"b = \" + str(params[\"b\"]))\n",
    "print (\"dw = \" + str(grads[\"dw\"]))\n",
    "print (\"db = \" + str(grads[\"db\"]))"
   ]
  },
  {
   "cell_type": "code",
   "execution_count": 17,
   "metadata": {},
   "outputs": [
    {
     "data": {
      "text/plain": [
       "[0.6931471805599453,\n",
       " 0.6057844094539584,\n",
       " 0.589938210672622,\n",
       " 0.5778904003077883,\n",
       " 0.567791478232612,\n",
       " 0.5590129971626583,\n",
       " 0.5512068556656803,\n",
       " 0.5441455482789147,\n",
       " 0.5376706007005985,\n",
       " 0.531667936033819]"
      ]
     },
     "execution_count": 17,
     "metadata": {},
     "output_type": "execute_result"
    }
   ],
   "source": [
    "costs[0:10]"
   ]
  },
  {
   "cell_type": "code",
   "execution_count": 18,
   "metadata": {},
   "outputs": [
    {
     "data": {
      "image/png": "[encoded data removed]",
      "text/plain": [
       "<Figure size 432x288 with 1 Axes>"
      ]
     },
     "metadata": {
      "needs_background": "light"
     },
     "output_type": "display_data"
    }
   ],
   "source": [
    "import matplotlib.pyplot as plt\n",
    "plt.plot(costs)\n",
    "plt.show()"
   ]
  },
  {
   "cell_type": "markdown",
   "metadata": {},
   "source": [
    "**Expected Output**: \n",
    "<table style=\"width:40%\">\n",
    "    <tr>\n",
    "       <td> **w** </td>\n",
    "       <td>[[ 0.19033591] [ 0.12259159]] </td>\n",
    "    </tr>\n",
    "    <tr>\n",
    "       <td> **b** </td>\n",
    "       <td> 1.92535983008 </td>\n",
    "    </tr>\n",
    "    <tr>\n",
    "       <td> **dw** </td>\n",
    "       <td> [[ 0.67752042]\n",
    " [ 1.41625495]] </td>\n",
    "    </tr>\n",
    "    <tr>\n",
    "       <td> **db** </td>\n",
    "       <td> 0.219194504541 </td>\n",
    "    </tr>\n",
    "</table>"
   ]
  },
  {
   "cell_type": "markdown",
   "metadata": {},
   "source": [
    "**Exercise:** The previous function will output the learned w and b. We are able to use w and b to predict the labels for a dataset X. Implement the `predict()` function. There are two steps to computing predictions:\n",
    "\n",
    "1. Calculate $\\hat{Y} = A = \\sigma(w^T X + b)$\n",
    "\n",
    "2. Convert the entries of a into 0 (if activation <= 0.5) or 1 (if activation > 0.5), stores the predictions in a vector `Y_prediction`. If you wish, you can use an `if`/`else` statement in a `for` loop (though there is also a way to vectorize this). "
   ]
  },
  {
   "cell_type": "code",
   "execution_count": 19,
   "metadata": {},
   "outputs": [],
   "source": [
    "# GRADED FUNCTION: predict\n",
    "\n",
    "def predict(w, b, X):\n",
    "    '''\n",
    "    Predict whether the label is 0 or 1 using learned logistic regression parameters (w, b)\n",
    "    \n",
    "    Arguments:\n",
    "    w -- weights, a numpy array of size (num_px * num_px * 3, 1)\n",
    "    b -- bias, a scalar\n",
    "    X -- data of size (num_px * num_px * 3, number of examples)\n",
    "    \n",
    "    Returns:\n",
    "    Y_prediction -- a numpy array (vector) containing all predictions (0/1) for the examples in X\n",
    "    '''\n",
    "    \n",
    "    m = X.shape[1]\n",
    "    Y_prediction = np.zeros((1,m))\n",
    "    w = w.reshape(X.shape[0], 1)\n",
    "    \n",
    "    # Compute vector \"A\" predicting the probabilities of a cat being present in the picture\n",
    "    ### START CODE HERE ### (≈ 1 line of code)\n",
    "    A = sigmoid(np.dot(w.T,X) + b)           # Dimentions = (1, m)\n",
    "    ### END CODE HERE ###\n",
    "    \n",
    "    #### WORKING SOLUTION 1: USING IF ELSE #### \n",
    "    #for i in range(A.shape[1]):\n",
    "        ## Convert probabilities A[0,i] to actual predictions p[0,i]\n",
    "        ### START CODE HERE ### (≈ 4 lines of code)train_set_x.shape\n",
    "        #if (A[0,i] >= 0.5):\n",
    "        #    Y_prediction[0, i] = 1\n",
    "        #else:\n",
    "        #    Y_prediction[0, i] = 0\n",
    "        ### END CODE HERE ###\n",
    "        \n",
    "    #### WORKING SOLUTION 2: ONE LINE ####\n",
    "    #for i in range(A.shape[1]):\n",
    "        ## Convert probabilities A[0,i] to actual predictions p[0,i]\n",
    "        ### START CODE HERE ### (≈ 4 lines of code)\n",
    "        #Y_prediction[0, i] = 1 if A[0,i] >=0.5 else 0\n",
    "        ### END CODE HERE ###\n",
    "    \n",
    "    #### WORKING SOLUTION 3: VECTORISED IMPLEMENTATION ####\n",
    "    Y_prediction = (A >= 0.5) * 1.0\n",
    "    \n",
    "    assert(Y_prediction.shape == (1, m))\n",
    "    \n",
    "    return Y_prediction"
   ]
  },
  {
   "cell_type": "code",
   "execution_count": 20,
   "metadata": {},
   "outputs": [
    {
     "name": "stdout",
     "output_type": "stream",
     "text": [
      "predictions = [[1. 1. 1. 1. 1. 1. 1. 1. 1. 1. 1. 1. 1. 1. 1. 1. 1. 1. 1. 1. 1. 1. 1. 1.\n",
      "  1. 1. 1. 1. 1. 1. 1. 1. 1. 1. 1. 1. 1. 1. 1. 1. 1. 1. 1. 1. 1. 1. 1. 1.\n",
      "  1. 1.]]\n"
     ]
    }
   ],
   "source": [
    "\n",
    "X = test_set_x\n",
    "print (\"predictions = \" + str(predict(w, b, X)))"
   ]
  },
  {
   "cell_type": "markdown",
   "metadata": {},
   "source": [
    "**Expected Output**: \n",
    "\n",
    "<table style=\"width:30%\">\n",
    "    <tr>\n",
    "         <td>\n",
    "             **predictions**\n",
    "         </td>\n",
    "          <td>\n",
    "            [[ 1.  1.  0.]]\n",
    "         </td>  \n",
    "   </tr>\n",
    "\n",
    "</table>\n"
   ]
  },
  {
   "cell_type": "markdown",
   "metadata": {},
   "source": [
    "<font color='blue'>\n",
    "**What to remember:**\n",
    "You've implemented several functions that:\n",
    "- Initialize (w,b)\n",
    "- Optimize the loss iteratively to learn parameters (w,b):\n",
    "    - computing the cost and its gradient \n",
    "    - updating the parameters using gradient descent\n",
    "- Use the learned (w,b) to predict the labels for a given set of examples"
   ]
  },
  {
   "cell_type": "markdown",
   "metadata": {},
   "source": [
    "## 5 - Merge all functions into a model ##\n",
    "\n",
    "You will now see how the overall model is structured by putting together all the building blocks (functions implemented in the previous parts) together, in the right order.\n",
    "\n",
    "**Exercise:** Implement the model function. Use the following notation:\n",
    "    - Y_prediction_test for your predictions on the test set\n",
    "    - Y_prediction_train for your predictions on the train set\n",
    "    - w, costs, grads for the outputs of optimize()"
   ]
  },
  {
   "cell_type": "code",
   "execution_count": 21,
   "metadata": {},
   "outputs": [],
   "source": [
    "# GRADED FUNCTION: model\n",
    "\n",
    "def model(X_train, Y_train, X_test, Y_test, num_iterations = 2000, learning_rate = 0.001, print_cost = False):\n",
    "    \"\"\"\n",
    "    Builds the logistic regression model by calling the function you've implemented previously\n",
    "    \n",
    "    Arguments:\n",
    "    X_train -- training set represented by a numpy array of shape (num_px * num_px * 3, m_train)\n",
    "    Y_train -- training labels represented by a numpy array (vector) of shape (1, m_train)\n",
    "    X_test -- test set represented by a numpy array of shape (num_px * num_px * 3, m_test)\n",
    "    Y_test -- test labels represented by a numpy array (vector) of shape (1, m_test)\n",
    "    num_iterations -- hyperparameter representing the number of iterations to optimize the parameters\n",
    "    learning_rate -- hyperparameter representing the learning rate used in the update rule of optimize()\n",
    "    print_cost -- Set to true to print the cost every 100 iterations\n",
    "    \n",
    "    Returns:\n",
    "    d -- dictionary containing information about the model.\n",
    "    \"\"\"\n",
    "    \n",
    "    ### START CODE HERE ###\n",
    "    \n",
    "    # initialize parameters with zeros (≈ 1 line of code)\n",
    "    w, b = initialize_with_zeros(X_train.shape[0])\n",
    "\n",
    "    # Gradient descent (≈ 1 line of code)\n",
    "    parameters, grads, costs = optimize(w, b, X_train, Y_train, num_iterations, learning_rate, print_cost)\n",
    "    \n",
    "    # Retrieve parameters w and b from dictionary \"parameters\"\n",
    "    w = parameters[\"w\"]\n",
    "    b = parameters[\"b\"]\n",
    "    \n",
    "    # Predict test/train set examples (≈ 2 lines of code)\n",
    "    Y_prediction_test = predict(w, b, X_test)\n",
    "    Y_prediction_train = predict(w, b, X_train)\n",
    "    ### END CODE HERE ###\n",
    "\n",
    "    # Print train/test Errors\n",
    "    print(\"train accuracy: {} %\".format(100 - np.mean(np.abs(Y_prediction_train - Y_train)) * 100))\n",
    "    print(\"test accuracy: {} %\".format(100 - np.mean(np.abs(Y_prediction_test - Y_test)) * 100))\n",
    "\n",
    "    \n",
    "    d = {\"costs\": costs,\n",
    "         \"Y_prediction_test\": Y_prediction_test, \n",
    "         \"Y_prediction_train\" : Y_prediction_train, \n",
    "         \"w\" : w, \n",
    "         \"b\" : b,\n",
    "         \"learning_rate\" : learning_rate,\n",
    "         \"num_iterations\": num_iterations}\n",
    "    \n",
    "    return d"
   ]
  },
  {
   "cell_type": "markdown",
   "metadata": {},
   "source": [
    "Run the following cell to train your model."
   ]
  },
  {
   "cell_type": "code",
   "execution_count": 22,
   "metadata": {},
   "outputs": [
    {
     "name": "stdout",
     "output_type": "stream",
     "text": [
      "Cost after iteration 0: 0.693147\n",
      "Cost after iteration 100: 2.321808\n",
      "Cost after iteration 200: 0.619181\n",
      "Cost after iteration 300: 0.504370\n",
      "Cost after iteration 400: 0.899433\n",
      "Cost after iteration 500: 0.528999\n",
      "Cost after iteration 600: 0.641262\n",
      "Cost after iteration 700: 0.841383\n",
      "Cost after iteration 800: 0.818490\n",
      "Cost after iteration 900: 0.787887\n",
      "train accuracy: 68.42105263157895 %\n",
      "test accuracy: 66.0 %\n"
     ]
    }
   ],
   "source": [
    "d = model(train_set_x, train_set_y, test_set_x, test_set_y, num_iterations = 1000, learning_rate = 0.01, print_cost = True)"
   ]
  },
  {
   "cell_type": "markdown",
   "metadata": {},
   "source": [
    "**Expected Output**: \n",
    "<table style=\"width:40%\"> \n",
    "    <tr>\n",
    "        <td> **Cost after iteration 0 **  </td> \n",
    "        <td> 0.693147 </td>\n",
    "    </tr>\n",
    "      <tr>\n",
    "        <td> <center> $\\vdots$ </center> </td> \n",
    "        <td> <center> $\\vdots$ </center> </td> \n",
    "    </tr>  \n",
    "    <tr>\n",
    "        <td> **Train Accuracy**  </td> \n",
    "        <td> 99.04306220095694 % </td>\n",
    "    </tr>\n",
    "    <tr>\n",
    "        <td>**Test Accuracy** </td> \n",
    "        <td> 70.0 % </td>\n",
    "    </tr>\n",
    "</table> "
   ]
  },
  {
   "cell_type": "markdown",
   "metadata": {},
   "source": [
    "**Comment**: Training accuracy is close to 100%. This is a good sanity check: your model is working and has high enough capacity to fit the training data. Test accuracy is 68%. It is actually not bad for this simple model, given the small dataset we used and that logistic regression is a linear classifier. But no worries, you'll build an even better classifier next week!\n",
    "\n",
    "Also, you see that the model is clearly overfitting the training data. Later in this specialization you will learn how to reduce overfitting, for example by using regularization. Using the code below (and changing the `index` variable) you can look at predictions on pictures of the test set."
   ]
  },
  {
   "cell_type": "code",
   "execution_count": 23,
   "metadata": {},
   "outputs": [
    {
     "ename": "IndexError",
     "evalue": "only integers, slices (`:`), ellipsis (`...`), numpy.newaxis (`None`) and integer or boolean arrays are valid indices",
     "output_type": "error",
     "traceback": [
      "\u001b[0;31m---------------------------------------------------------------------------\u001b[0m",
      "\u001b[0;31mIndexError\u001b[0m                                Traceback (most recent call last)",
      "Input \u001b[0;32mIn [23]\u001b[0m, in \u001b[0;36m<cell line: 4>\u001b[0;34m()\u001b[0m\n\u001b[1;32m      2\u001b[0m index \u001b[38;5;241m=\u001b[39m \u001b[38;5;241m25\u001b[39m\n\u001b[1;32m      3\u001b[0m plt\u001b[38;5;241m.\u001b[39mimshow(test_set_x[:,index]\u001b[38;5;241m.\u001b[39mreshape((num_px, num_px, \u001b[38;5;241m3\u001b[39m)))\n\u001b[0;32m----> 4\u001b[0m \u001b[38;5;28mprint\u001b[39m (\u001b[38;5;124m\"\u001b[39m\u001b[38;5;124my = \u001b[39m\u001b[38;5;124m\"\u001b[39m \u001b[38;5;241m+\u001b[39m \u001b[38;5;28mstr\u001b[39m(test_set_y[\u001b[38;5;241m0\u001b[39m,index]) \u001b[38;5;241m+\u001b[39m \u001b[38;5;124m\"\u001b[39m\u001b[38;5;124m, you predicted that it is a \u001b[39m\u001b[38;5;130;01m\\\"\u001b[39;00m\u001b[38;5;124m\"\u001b[39m \u001b[38;5;241m+\u001b[39m \u001b[43mclasses\u001b[49m\u001b[43m[\u001b[49m\u001b[43md\u001b[49m\u001b[43m[\u001b[49m\u001b[38;5;124;43m\"\u001b[39;49m\u001b[38;5;124;43mY_prediction_test\u001b[39;49m\u001b[38;5;124;43m\"\u001b[39;49m\u001b[43m]\u001b[49m\u001b[43m[\u001b[49m\u001b[38;5;241;43m0\u001b[39;49m\u001b[43m,\u001b[49m\u001b[43mindex\u001b[49m\u001b[43m]\u001b[49m\u001b[43m]\u001b[49m\u001b[38;5;241m.\u001b[39mdecode(\u001b[38;5;124m\"\u001b[39m\u001b[38;5;124mutf-8\u001b[39m\u001b[38;5;124m\"\u001b[39m) \u001b[38;5;241m+\u001b[39m  \u001b[38;5;124m\"\u001b[39m\u001b[38;5;130;01m\\\"\u001b[39;00m\u001b[38;5;124m picture.\u001b[39m\u001b[38;5;124m\"\u001b[39m)\n",
      "\u001b[0;31mIndexError\u001b[0m: only integers, slices (`:`), ellipsis (`...`), numpy.newaxis (`None`) and integer or boolean arrays are valid indices"
     ]
    },
    {
     "data": {
      "image/png": "[encoded data removed]",
      "text/plain": [
       "<Figure size 432x288 with 1 Axes>"
      ]
     },
     "metadata": {
      "needs_background": "light"
     },
     "output_type": "display_data"
    }
   ],
   "source": [
    "# Example of a picture that was wrongly classified.\n",
    "index = 25\n",
    "plt.imshow(test_set_x[:,index].reshape((num_px, num_px, 3)))\n",
    "print (\"y = \" + str(test_set_y[0,index]) + \", you predicted that it is a \\\"\" + classes[d[\"Y_prediction_test\"][0,index]].decode(\"utf-8\") +  \"\\\" picture.\")"
   ]
  },
  {
   "cell_type": "markdown",
   "metadata": {},
   "source": [
    "Let's also plot the cost function and the gradients."
   ]
  },
  {
   "cell_type": "code",
   "execution_count": null,
   "metadata": {},
   "outputs": [],
   "source": [
    "# Plot learning curve (with costs)\n",
    "costs = np.squeeze(d['costs'])\n",
    "plt.plot(costs)\n",
    "plt.ylabel('cost')\n",
    "plt.xlabel('iterations (per hundreds)')\n",
    "plt.title(\"Learning rate =\" + str(d[\"learning_rate\"]))\n",
    "plt.show()"
   ]
  },
  {
   "cell_type": "markdown",
   "metadata": {},
   "source": [
    "**Interpretation**:\n",
    "You can see the cost decreasing. It shows that the parameters are being learned. However, you see that you could train the model even more on the training set. Try to increase the number of iterations in the cell above and rerun the cells. You might see that the training set accuracy goes up, but the test set accuracy goes down. This is called overfitting. "
   ]
  },
  {
   "cell_type": "markdown",
   "metadata": {},
   "source": [
    "## 6 - Further analysis (optional/ungraded exercise) ##\n",
    "\n",
    "Congratulations on building your first image classification model. Let's analyze it further, and examine possible choices for the learning rate $\\alpha$. "
   ]
  },
  {
   "cell_type": "markdown",
   "metadata": {},
   "source": [
    "#### Choice of learning rate ####\n",
    "\n",
    "**Reminder**:\n",
    "In order for Gradient Descent to work you must choose the learning rate wisely. The learning rate $\\alpha$  determines how rapidly we update the parameters. If the learning rate is too large we may \"overshoot\" the optimal value. Similarly, if it is too small we will need too many iterations to converge to the best values. That's why it is crucial to use a well-tuned learning rate.\n",
    "\n",
    "Let's compare the learning curve of our model with several choices of learning rates. Run the cell below. This should take about 1 minute. Feel free also to try different values than the three we have initialized the `learning_rates` variable to contain, and see what happens. "
   ]
  },
  {
   "cell_type": "code",
   "execution_count": null,
   "metadata": {},
   "outputs": [],
   "source": [
    "learning_rates = [0.01, 0.001, 0.0001]\n",
    "models = {}\n",
    "for i in learning_rates:\n",
    "    print (\"learning rate is: \" + str(i))\n",
    "    models[str(i)] = model(train_set_x, train_set_y, test_set_x, test_set_y, num_iterations = 1500, learning_rate = i, print_cost = False)\n",
    "    print ('\\n' + \"-------------------------------------------------------\" + '\\n')\n",
    "\n",
    "for i in learning_rates:\n",
    "    plt.plot(np.squeeze(models[str(i)][\"costs\"]), label= str(models[str(i)][\"learning_rate\"]))\n",
    "\n",
    "plt.ylabel('cost')\n",
    "plt.xlabel('iterations (hundreds)')\n",
    "\n",
    "legend = plt.legend(loc='upper center', shadow=True)\n",
    "frame = legend.get_frame()\n",
    "frame.set_facecolor('0.90')\n",
    "plt.show()"
   ]
  },
  {
   "cell_type": "markdown",
   "metadata": {},
   "source": [
    "**Interpretation**: \n",
    "- Different learning rates give different costs and thus different predictions results.\n",
    "- If the learning rate is too large (0.01), the cost may oscillate up and down. It may even diverge (though in this example, using 0.01 still eventually ends up at a good value for the cost). \n",
    "- A lower cost doesn't mean a better model. You have to check if there is possibly overfitting. It happens when the training accuracy is a lot higher than the test accuracy.\n",
    "- In deep learning, we usually recommend that you: \n",
    "    - Choose the learning rate that better minimizes the cost function.\n",
    "    - If your model overfits, use other techniques to reduce overfitting. (We'll talk about this in later videos.) \n"
   ]
  },
  {
   "cell_type": "markdown",
   "metadata": {},
   "source": [
    "## 7 - Test with your own image (optional/ungraded exercise) ##\n",
    "\n",
    "Congratulations on finishing this assignment. You can use your own image and see the output of your model. To do that:\n",
    "    1. Click on \"File\" in the upper bar of this notebook, then click \"Open\" to go on your Coursera Hub.\n",
    "    2. Add your image to this Jupyter Notebook's directory, in the \"images\" folder\n",
    "    3. Change your image's name in the following code\n",
    "    4. Run the code and check if the algorithm is right (1 = cat, 0 = non-cat)!"
   ]
  },
  {
   "cell_type": "code",
   "execution_count": null,
   "metadata": {
    "collapsed": true,
    "scrolled": false
   },
   "outputs": [],
   "source": [
    "## START CODE HERE ## (PUT YOUR IMAGE NAME) \n",
    "my_image = \"my_image.jpg\"   # change this to the name of your image file \n",
    "## END CODE HERE ##\n",
    "\n",
    "# We preprocess the image to fit your algorithm.\n",
    "fname = \"images/\" + my_image\n",
    "image = np.array(ndimage.imread(fname, flatten=False))\n",
    "image = image/255.\n",
    "my_image = scipy.misc.imresize(image, size=(num_px,num_px)).reshape((1, num_px*num_px*3)).T\n",
    "my_predicted_image = predict(d[\"w\"], d[\"b\"], my_image)\n",
    "\n",
    "plt.imshow(image)\n",
    "print(\"y = \" + str(np.squeeze(my_predicted_image)) + \", your algorithm predicts a \\\"\" + classes[int(np.squeeze(my_predicted_image)),].decode(\"utf-8\") +  \"\\\" picture.\")"
   ]
  },
  {
   "cell_type": "markdown",
   "metadata": {},
   "source": [
    "<font color='blue'>\n",
    "**What to remember from this assignment:**\n",
    "1. Preprocessing the dataset is important.\n",
    "2. You implemented each function separately: initialize(), propagate(), optimize(). Then you built a model().\n",
    "3. Tuning the learning rate (which is an example of a \"hyperparameter\") can make a big difference to the algorithm. You will see more examples of this later in this course!"
   ]
  },
  {
   "cell_type": "markdown",
   "metadata": {},
   "source": [
    "Finally, if you'd like, we invite you to try different things on this Notebook. Make sure you submit before trying anything. Once you submit, things you can play with include:\n",
    "    - Play with the learning rate and the number of iterations\n",
    "    - Try different initialization methods and compare the results\n",
    "    - Test other preprocessings (center the data, or divide each row by its standard deviation)"
   ]
  },
  {
   "cell_type": "markdown",
   "metadata": {},
   "source": [
    "Bibliography:\n",
    "- http://www.wildml.com/2015/09/implementing-a-neural-network-from-scratch/\n",
    "- https://stats.stackexchange.com/questions/211436/why-do-we-normalize-images-by-subtracting-the-datasets-image-mean-and-not-the-c"
   ]
  },
  {
   "cell_type": "code",
   "execution_count": 62,
   "metadata": {},
   "outputs": [],
   "source": [
    "train_set_x_orig, train_set_y, test_set_x_orig, test_set_y, classes = load_dataset()"
   ]
  },
  {
   "cell_type": "code",
   "execution_count": 63,
   "metadata": {},
   "outputs": [],
   "source": [
    "import tensorflow as tf\n",
    "from tensorflow.python.framework import ops\n",
    "from tensorflow.keras import layers\n",
    "from tensorflow.keras.models import Sequential"
   ]
  },
  {
   "cell_type": "code",
   "execution_count": 35,
   "metadata": {},
   "outputs": [],
   "source": [
    "model = Sequential(\n",
    "    [\n",
    "        layers.Rescaling(1.0 / 255, input_shape=(64, 64, 3)),\n",
    "        layers.Flatten(),\n",
    "        layers.Dense(1),\n",
    "    ]\n",
    ")"
   ]
  },
  {
   "cell_type": "code",
   "execution_count": 64,
   "metadata": {},
   "outputs": [
    {
     "data": {
      "text/plain": [
       "array([[ 3.3611774e+00],\n",
       "       [ 1.7884605e+00],\n",
       "       [ 1.5490520e+00],\n",
       "       [ 3.5028486e+00],\n",
       "       [ 5.1992506e-01],\n",
       "       [ 1.8309386e-01],\n",
       "       [-6.4624338e+00],\n",
       "       [ 1.1712639e+00],\n",
       "       [ 1.8382219e+00],\n",
       "       [ 5.2119184e-01],\n",
       "       [-2.4312255e+00],\n",
       "       [-8.4439754e-01],\n",
       "       [ 1.0067445e+00],\n",
       "       [ 1.2818297e+00],\n",
       "       [-6.7962570e+00],\n",
       "       [ 2.9765286e+00],\n",
       "       [-5.6535435e+00],\n",
       "       [ 2.0425053e+00],\n",
       "       [-2.6244907e+00],\n",
       "       [-5.5241532e+00],\n",
       "       [ 3.2534184e+00],\n",
       "       [-2.5789328e+00],\n",
       "       [-6.4470925e+00],\n",
       "       [ 1.5149138e+00],\n",
       "       [-5.5262053e-01],\n",
       "       [ 6.7350514e-02],\n",
       "       [ 1.6711730e+00],\n",
       "       [-6.8156457e+00],\n",
       "       [-5.5761356e+00],\n",
       "       [ 8.5119524e+00],\n",
       "       [-3.1636209e+00],\n",
       "       [ 9.5080400e-01],\n",
       "       [-5.3316308e-03],\n",
       "       [-4.6017861e-01],\n",
       "       [ 1.4415269e-02],\n",
       "       [-5.4321756e+00],\n",
       "       [-4.2394409e+00],\n",
       "       [ 9.0076947e-01],\n",
       "       [-1.9107721e+00],\n",
       "       [-3.7383657e+00],\n",
       "       [ 9.2028636e-01],\n",
       "       [-2.0133643e+00],\n",
       "       [ 8.9276738e-02],\n",
       "       [-5.4255295e+00],\n",
       "       [ 3.3434255e+00],\n",
       "       [ 2.8404444e-01],\n",
       "       [-2.6143913e+00],\n",
       "       [ 4.5444894e+00],\n",
       "       [ 3.5605544e-01],\n",
       "       [-3.5145092e+00]], dtype=float32)"
      ]
     },
     "execution_count": 64,
     "metadata": {},
     "output_type": "execute_result"
    }
   ],
   "source": [
    "model.predict(test_set_x_orig)"
   ]
  },
  {
   "cell_type": "code",
   "execution_count": 53,
   "metadata": {},
   "outputs": [
    {
     "data": {
      "text/plain": [
       "array([1])"
      ]
     },
     "execution_count": 53,
     "metadata": {},
     "output_type": "execute_result"
    }
   ],
   "source": []
  },
  {
   "cell_type": "code",
   "execution_count": 41,
   "metadata": {},
   "outputs": [],
   "source": [
    "loss = tf.keras.losses.BinaryCrossentropy(from_logits=True)\n",
    "trainer = tf.keras.optimizers.SGD(learning_rate=0.01)"
   ]
  },
  {
   "cell_type": "code",
   "execution_count": 42,
   "metadata": {},
   "outputs": [],
   "source": [
    "model.compile(\n",
    "    optimizer=trainer,\n",
    "    loss=loss,\n",
    "    metrics=[\"accuracy\"],\n",
    ")"
   ]
  },
  {
   "cell_type": "code",
   "execution_count": 65,
   "metadata": {},
   "outputs": [
    {
     "name": "stdout",
     "output_type": "stream",
     "text": [
      "Epoch 1/100\n",
      "7/7 [==============================] - 3s 200ms/step - loss: 0.0629 - accuracy: 0.9952 - val_loss: 0.9978 - val_accuracy: 0.6600\n",
      "Epoch 2/100\n",
      "7/7 [==============================] - 0s 55ms/step - loss: 0.0642 - accuracy: 1.0000 - val_loss: 1.0427 - val_accuracy: 0.6600\n",
      "Epoch 3/100\n",
      "7/7 [==============================] - 1s 98ms/step - loss: 0.0686 - accuracy: 0.9904 - val_loss: 0.9988 - val_accuracy: 0.6600\n",
      "Epoch 4/100\n",
      "7/7 [==============================] - 1s 146ms/step - loss: 0.0618 - accuracy: 1.0000 - val_loss: 0.9784 - val_accuracy: 0.6800\n",
      "Epoch 5/100\n",
      "7/7 [==============================] - 0s 28ms/step - loss: 0.0658 - accuracy: 1.0000 - val_loss: 1.2067 - val_accuracy: 0.6000\n",
      "Epoch 6/100\n",
      "7/7 [==============================] - 0s 28ms/step - loss: 0.0680 - accuracy: 0.9904 - val_loss: 1.0724 - val_accuracy: 0.6400\n",
      "Epoch 7/100\n",
      "7/7 [==============================] - 0s 25ms/step - loss: 0.0615 - accuracy: 1.0000 - val_loss: 0.9308 - val_accuracy: 0.7200\n",
      "Epoch 8/100\n",
      "7/7 [==============================] - 0s 27ms/step - loss: 0.0641 - accuracy: 0.9952 - val_loss: 1.0994 - val_accuracy: 0.6600\n",
      "Epoch 9/100\n",
      "7/7 [==============================] - 0s 30ms/step - loss: 0.0621 - accuracy: 1.0000 - val_loss: 0.9932 - val_accuracy: 0.6800\n",
      "Epoch 10/100\n",
      "7/7 [==============================] - 0s 32ms/step - loss: 0.0619 - accuracy: 1.0000 - val_loss: 0.9734 - val_accuracy: 0.6800\n",
      "Epoch 11/100\n",
      "7/7 [==============================] - 0s 19ms/step - loss: 0.0675 - accuracy: 0.9952 - val_loss: 1.0451 - val_accuracy: 0.6600\n",
      "Epoch 12/100\n",
      "7/7 [==============================] - 0s 51ms/step - loss: 0.0612 - accuracy: 1.0000 - val_loss: 0.9706 - val_accuracy: 0.6800\n",
      "Epoch 13/100\n",
      "7/7 [==============================] - 0s 21ms/step - loss: 0.0596 - accuracy: 1.0000 - val_loss: 1.1117 - val_accuracy: 0.6400\n",
      "Epoch 14/100\n",
      "7/7 [==============================] - 0s 42ms/step - loss: 0.0658 - accuracy: 1.0000 - val_loss: 1.0880 - val_accuracy: 0.6400\n",
      "Epoch 15/100\n",
      "7/7 [==============================] - 0s 32ms/step - loss: 0.0593 - accuracy: 1.0000 - val_loss: 0.9977 - val_accuracy: 0.6800\n",
      "Epoch 16/100\n",
      "7/7 [==============================] - 0s 32ms/step - loss: 0.0587 - accuracy: 1.0000 - val_loss: 1.0533 - val_accuracy: 0.6800\n",
      "Epoch 17/100\n",
      "7/7 [==============================] - 0s 27ms/step - loss: 0.0599 - accuracy: 1.0000 - val_loss: 0.9587 - val_accuracy: 0.7000\n",
      "Epoch 18/100\n",
      "7/7 [==============================] - 0s 34ms/step - loss: 0.0619 - accuracy: 0.9952 - val_loss: 0.9977 - val_accuracy: 0.6800\n",
      "Epoch 19/100\n",
      "7/7 [==============================] - 0s 36ms/step - loss: 0.0620 - accuracy: 1.0000 - val_loss: 1.2118 - val_accuracy: 0.6000\n",
      "Epoch 20/100\n",
      "7/7 [==============================] - 0s 17ms/step - loss: 0.0691 - accuracy: 0.9952 - val_loss: 0.9756 - val_accuracy: 0.6800\n",
      "Epoch 21/100\n",
      "7/7 [==============================] - 0s 23ms/step - loss: 0.0641 - accuracy: 1.0000 - val_loss: 1.1278 - val_accuracy: 0.6400\n",
      "Epoch 22/100\n",
      "7/7 [==============================] - 0s 23ms/step - loss: 0.0641 - accuracy: 1.0000 - val_loss: 1.0813 - val_accuracy: 0.6400\n",
      "Epoch 23/100\n",
      "7/7 [==============================] - 0s 29ms/step - loss: 0.0661 - accuracy: 0.9952 - val_loss: 1.0012 - val_accuracy: 0.6800\n",
      "Epoch 24/100\n",
      "7/7 [==============================] - 0s 20ms/step - loss: 0.0597 - accuracy: 1.0000 - val_loss: 0.9966 - val_accuracy: 0.6800\n",
      "Epoch 25/100\n",
      "7/7 [==============================] - 0s 27ms/step - loss: 0.0590 - accuracy: 1.0000 - val_loss: 1.0743 - val_accuracy: 0.6400\n",
      "Epoch 26/100\n",
      "7/7 [==============================] - 0s 23ms/step - loss: 0.0597 - accuracy: 1.0000 - val_loss: 0.9834 - val_accuracy: 0.6800\n",
      "Epoch 27/100\n",
      "7/7 [==============================] - 0s 51ms/step - loss: 0.0644 - accuracy: 1.0000 - val_loss: 0.9429 - val_accuracy: 0.7200\n",
      "Epoch 28/100\n",
      "7/7 [==============================] - 0s 23ms/step - loss: 0.0633 - accuracy: 1.0000 - val_loss: 0.9572 - val_accuracy: 0.7000\n",
      "Epoch 29/100\n",
      "7/7 [==============================] - 0s 24ms/step - loss: 0.0672 - accuracy: 0.9952 - val_loss: 0.9455 - val_accuracy: 0.7200\n",
      "Epoch 30/100\n",
      "7/7 [==============================] - 0s 27ms/step - loss: 0.0697 - accuracy: 0.9952 - val_loss: 1.0727 - val_accuracy: 0.6400\n",
      "Epoch 31/100\n",
      "7/7 [==============================] - 0s 23ms/step - loss: 0.0577 - accuracy: 1.0000 - val_loss: 0.9926 - val_accuracy: 0.6800\n",
      "Epoch 32/100\n",
      "7/7 [==============================] - 0s 21ms/step - loss: 0.0564 - accuracy: 1.0000 - val_loss: 1.0335 - val_accuracy: 0.6600\n",
      "Epoch 33/100\n",
      "7/7 [==============================] - 0s 22ms/step - loss: 0.0612 - accuracy: 1.0000 - val_loss: 1.1470 - val_accuracy: 0.6400\n",
      "Epoch 34/100\n",
      "7/7 [==============================] - 0s 23ms/step - loss: 0.0586 - accuracy: 1.0000 - val_loss: 1.0308 - val_accuracy: 0.6600\n",
      "Epoch 35/100\n",
      "7/7 [==============================] - 0s 21ms/step - loss: 0.0579 - accuracy: 1.0000 - val_loss: 1.0006 - val_accuracy: 0.6800\n",
      "Epoch 36/100\n",
      "7/7 [==============================] - 0s 18ms/step - loss: 0.0572 - accuracy: 1.0000 - val_loss: 0.9689 - val_accuracy: 0.7000\n",
      "Epoch 37/100\n",
      "7/7 [==============================] - 0s 20ms/step - loss: 0.0559 - accuracy: 1.0000 - val_loss: 1.1182 - val_accuracy: 0.6200\n",
      "Epoch 38/100\n",
      "7/7 [==============================] - 0s 28ms/step - loss: 0.0584 - accuracy: 1.0000 - val_loss: 1.1392 - val_accuracy: 0.6200\n",
      "Epoch 39/100\n",
      "7/7 [==============================] - 0s 21ms/step - loss: 0.0577 - accuracy: 1.0000 - val_loss: 1.0232 - val_accuracy: 0.6600\n",
      "Epoch 40/100\n",
      "7/7 [==============================] - 0s 22ms/step - loss: 0.0636 - accuracy: 0.9952 - val_loss: 1.0751 - val_accuracy: 0.6600\n",
      "Epoch 41/100\n",
      "7/7 [==============================] - 0s 19ms/step - loss: 0.0573 - accuracy: 1.0000 - val_loss: 0.9814 - val_accuracy: 0.6800\n",
      "Epoch 42/100\n",
      "7/7 [==============================] - 0s 18ms/step - loss: 0.0560 - accuracy: 1.0000 - val_loss: 1.0086 - val_accuracy: 0.6800\n",
      "Epoch 43/100\n",
      "7/7 [==============================] - 0s 26ms/step - loss: 0.0554 - accuracy: 1.0000 - val_loss: 1.2325 - val_accuracy: 0.6000\n",
      "Epoch 44/100\n",
      "7/7 [==============================] - 0s 22ms/step - loss: 0.0615 - accuracy: 0.9952 - val_loss: 1.0601 - val_accuracy: 0.6800\n",
      "Epoch 45/100\n",
      "7/7 [==============================] - 0s 24ms/step - loss: 0.0557 - accuracy: 1.0000 - val_loss: 0.9583 - val_accuracy: 0.7000\n",
      "Epoch 46/100\n",
      "7/7 [==============================] - 0s 17ms/step - loss: 0.0619 - accuracy: 1.0000 - val_loss: 1.0194 - val_accuracy: 0.6600\n",
      "Epoch 47/100\n",
      "7/7 [==============================] - 0s 24ms/step - loss: 0.0568 - accuracy: 1.0000 - val_loss: 1.0236 - val_accuracy: 0.6600\n",
      "Epoch 48/100\n",
      "7/7 [==============================] - 0s 22ms/step - loss: 0.0615 - accuracy: 0.9952 - val_loss: 1.0424 - val_accuracy: 0.6600\n",
      "Epoch 49/100\n",
      "7/7 [==============================] - 0s 35ms/step - loss: 0.0565 - accuracy: 1.0000 - val_loss: 1.0092 - val_accuracy: 0.6800\n",
      "Epoch 50/100\n",
      "7/7 [==============================] - 0s 28ms/step - loss: 0.0592 - accuracy: 0.9952 - val_loss: 1.0215 - val_accuracy: 0.6800\n",
      "Epoch 51/100\n",
      "7/7 [==============================] - 0s 29ms/step - loss: 0.0585 - accuracy: 1.0000 - val_loss: 1.0088 - val_accuracy: 0.6800\n",
      "Epoch 52/100\n",
      "7/7 [==============================] - 0s 31ms/step - loss: 0.0553 - accuracy: 1.0000 - val_loss: 1.0644 - val_accuracy: 0.6800\n",
      "Epoch 53/100\n",
      "7/7 [==============================] - 0s 22ms/step - loss: 0.0561 - accuracy: 1.0000 - val_loss: 1.4008 - val_accuracy: 0.5000\n",
      "Epoch 54/100\n",
      "7/7 [==============================] - 0s 22ms/step - loss: 0.0595 - accuracy: 0.9952 - val_loss: 1.0233 - val_accuracy: 0.6800\n",
      "Epoch 55/100\n",
      "7/7 [==============================] - 0s 20ms/step - loss: 0.0581 - accuracy: 0.9952 - val_loss: 1.0213 - val_accuracy: 0.6800\n",
      "Epoch 56/100\n",
      "7/7 [==============================] - 0s 22ms/step - loss: 0.0534 - accuracy: 1.0000 - val_loss: 1.0158 - val_accuracy: 0.6800\n",
      "Epoch 57/100\n",
      "7/7 [==============================] - 0s 19ms/step - loss: 0.0549 - accuracy: 1.0000 - val_loss: 0.9831 - val_accuracy: 0.6800\n",
      "Epoch 58/100\n",
      "7/7 [==============================] - 0s 24ms/step - loss: 0.0543 - accuracy: 1.0000 - val_loss: 1.2338 - val_accuracy: 0.6000\n",
      "Epoch 59/100\n"
     ]
    },
    {
     "name": "stdout",
     "output_type": "stream",
     "text": [
      "7/7 [==============================] - 0s 32ms/step - loss: 0.0562 - accuracy: 1.0000 - val_loss: 1.0698 - val_accuracy: 0.6600\n",
      "Epoch 60/100\n",
      "7/7 [==============================] - 0s 22ms/step - loss: 0.0513 - accuracy: 1.0000 - val_loss: 1.3125 - val_accuracy: 0.5600\n",
      "Epoch 61/100\n",
      "7/7 [==============================] - 0s 30ms/step - loss: 0.0567 - accuracy: 0.9952 - val_loss: 1.0263 - val_accuracy: 0.6800\n",
      "Epoch 62/100\n",
      "7/7 [==============================] - 0s 17ms/step - loss: 0.0575 - accuracy: 1.0000 - val_loss: 1.1198 - val_accuracy: 0.6400\n",
      "Epoch 63/100\n",
      "7/7 [==============================] - 0s 18ms/step - loss: 0.0528 - accuracy: 1.0000 - val_loss: 1.0453 - val_accuracy: 0.6600\n",
      "Epoch 64/100\n",
      "7/7 [==============================] - 0s 31ms/step - loss: 0.0565 - accuracy: 1.0000 - val_loss: 1.0774 - val_accuracy: 0.6600\n",
      "Epoch 65/100\n",
      "7/7 [==============================] - 0s 23ms/step - loss: 0.0534 - accuracy: 1.0000 - val_loss: 1.0786 - val_accuracy: 0.6600\n",
      "Epoch 66/100\n",
      "7/7 [==============================] - 0s 25ms/step - loss: 0.0519 - accuracy: 1.0000 - val_loss: 1.0540 - val_accuracy: 0.6600\n",
      "Epoch 67/100\n",
      "7/7 [==============================] - 0s 24ms/step - loss: 0.0528 - accuracy: 1.0000 - val_loss: 1.0069 - val_accuracy: 0.6800\n",
      "Epoch 68/100\n",
      "7/7 [==============================] - 0s 35ms/step - loss: 0.0533 - accuracy: 1.0000 - val_loss: 1.0496 - val_accuracy: 0.6600\n",
      "Epoch 69/100\n",
      "7/7 [==============================] - 0s 22ms/step - loss: 0.0515 - accuracy: 1.0000 - val_loss: 1.0217 - val_accuracy: 0.6800\n",
      "Epoch 70/100\n",
      "7/7 [==============================] - 0s 30ms/step - loss: 0.0532 - accuracy: 1.0000 - val_loss: 1.1110 - val_accuracy: 0.6400\n",
      "Epoch 71/100\n",
      "7/7 [==============================] - 0s 25ms/step - loss: 0.0517 - accuracy: 1.0000 - val_loss: 1.0213 - val_accuracy: 0.6800\n",
      "Epoch 72/100\n",
      "7/7 [==============================] - 0s 26ms/step - loss: 0.0535 - accuracy: 1.0000 - val_loss: 0.9778 - val_accuracy: 0.7000\n",
      "Epoch 73/100\n",
      "7/7 [==============================] - 0s 24ms/step - loss: 0.0547 - accuracy: 0.9952 - val_loss: 1.0334 - val_accuracy: 0.6600\n",
      "Epoch 74/100\n",
      "7/7 [==============================] - 0s 22ms/step - loss: 0.0545 - accuracy: 1.0000 - val_loss: 1.0396 - val_accuracy: 0.6600\n",
      "Epoch 75/100\n",
      "7/7 [==============================] - 0s 18ms/step - loss: 0.0534 - accuracy: 1.0000 - val_loss: 1.0541 - val_accuracy: 0.6600\n",
      "Epoch 76/100\n",
      "7/7 [==============================] - 0s 22ms/step - loss: 0.0516 - accuracy: 1.0000 - val_loss: 1.1918 - val_accuracy: 0.6000\n",
      "Epoch 77/100\n",
      "7/7 [==============================] - 0s 29ms/step - loss: 0.0551 - accuracy: 1.0000 - val_loss: 1.1111 - val_accuracy: 0.6400\n",
      "Epoch 78/100\n",
      "7/7 [==============================] - 0s 27ms/step - loss: 0.0554 - accuracy: 1.0000 - val_loss: 1.0888 - val_accuracy: 0.6800\n",
      "Epoch 79/100\n",
      "7/7 [==============================] - 0s 26ms/step - loss: 0.0544 - accuracy: 1.0000 - val_loss: 1.0119 - val_accuracy: 0.6800\n",
      "Epoch 80/100\n",
      "7/7 [==============================] - 0s 17ms/step - loss: 0.0533 - accuracy: 1.0000 - val_loss: 1.3698 - val_accuracy: 0.5400\n",
      "Epoch 81/100\n",
      "7/7 [==============================] - 0s 23ms/step - loss: 0.0622 - accuracy: 0.9952 - val_loss: 1.0316 - val_accuracy: 0.6800\n",
      "Epoch 82/100\n",
      "7/7 [==============================] - 0s 24ms/step - loss: 0.0521 - accuracy: 1.0000 - val_loss: 1.0892 - val_accuracy: 0.6600\n",
      "Epoch 83/100\n",
      "7/7 [==============================] - 0s 29ms/step - loss: 0.0517 - accuracy: 1.0000 - val_loss: 1.2001 - val_accuracy: 0.6000\n",
      "Epoch 84/100\n",
      "7/7 [==============================] - 0s 25ms/step - loss: 0.0513 - accuracy: 1.0000 - val_loss: 1.0414 - val_accuracy: 0.6800\n",
      "Epoch 85/100\n",
      "7/7 [==============================] - 0s 21ms/step - loss: 0.0509 - accuracy: 1.0000 - val_loss: 1.0384 - val_accuracy: 0.6800\n",
      "Epoch 86/100\n",
      "7/7 [==============================] - 0s 20ms/step - loss: 0.0500 - accuracy: 1.0000 - val_loss: 1.0215 - val_accuracy: 0.6800\n",
      "Epoch 87/100\n",
      "7/7 [==============================] - 0s 17ms/step - loss: 0.0512 - accuracy: 1.0000 - val_loss: 1.0620 - val_accuracy: 0.6600\n",
      "Epoch 88/100\n",
      "7/7 [==============================] - 0s 16ms/step - loss: 0.0515 - accuracy: 1.0000 - val_loss: 1.0815 - val_accuracy: 0.6600\n",
      "Epoch 89/100\n",
      "7/7 [==============================] - 0s 19ms/step - loss: 0.0496 - accuracy: 1.0000 - val_loss: 1.0829 - val_accuracy: 0.6600\n",
      "Epoch 90/100\n",
      "7/7 [==============================] - 0s 20ms/step - loss: 0.0498 - accuracy: 1.0000 - val_loss: 1.0908 - val_accuracy: 0.6800\n",
      "Epoch 91/100\n",
      "7/7 [==============================] - 0s 18ms/step - loss: 0.0502 - accuracy: 1.0000 - val_loss: 1.0668 - val_accuracy: 0.6800\n",
      "Epoch 92/100\n",
      "7/7 [==============================] - 0s 19ms/step - loss: 0.0515 - accuracy: 0.9952 - val_loss: 1.0843 - val_accuracy: 0.6800\n",
      "Epoch 93/100\n",
      "7/7 [==============================] - 0s 23ms/step - loss: 0.0504 - accuracy: 1.0000 - val_loss: 1.1077 - val_accuracy: 0.6600\n",
      "Epoch 94/100\n",
      "7/7 [==============================] - 0s 21ms/step - loss: 0.0501 - accuracy: 1.0000 - val_loss: 1.0507 - val_accuracy: 0.6800\n",
      "Epoch 95/100\n",
      "7/7 [==============================] - 0s 21ms/step - loss: 0.0552 - accuracy: 1.0000 - val_loss: 1.0535 - val_accuracy: 0.6800\n",
      "Epoch 96/100\n",
      "7/7 [==============================] - 0s 19ms/step - loss: 0.0494 - accuracy: 1.0000 - val_loss: 1.0839 - val_accuracy: 0.6800\n",
      "Epoch 97/100\n",
      "7/7 [==============================] - 0s 27ms/step - loss: 0.0501 - accuracy: 1.0000 - val_loss: 1.0865 - val_accuracy: 0.6800\n",
      "Epoch 98/100\n",
      "7/7 [==============================] - 0s 21ms/step - loss: 0.0497 - accuracy: 1.0000 - val_loss: 1.1107 - val_accuracy: 0.6400\n",
      "Epoch 99/100\n",
      "7/7 [==============================] - 0s 21ms/step - loss: 0.0499 - accuracy: 1.0000 - val_loss: 1.0380 - val_accuracy: 0.6800\n",
      "Epoch 100/100\n",
      "7/7 [==============================] - 0s 18ms/step - loss: 0.0482 - accuracy: 1.0000 - val_loss: 1.0385 - val_accuracy: 0.6800\n"
     ]
    },
    {
     "data": {
      "text/plain": [
       "<keras.callbacks.History at 0x7f1c65671e80>"
      ]
     },
     "execution_count": 65,
     "metadata": {},
     "output_type": "execute_result"
    }
   ],
   "source": [
    "model.fit(train_set_x_orig,train_set_y.T,validation_data=(test_set_x_orig, test_set_y.T),epochs=100)"
   ]
  },
  {
   "cell_type": "code",
   "execution_count": null,
   "metadata": {},
   "outputs": [],
   "source": []
  }
 ],
 "metadata": {
  "coursera": {
   "course_slug": "neural-networks-deep-learning",
   "graded_item_id": "XaIWT",
   "launcher_item_id": "zAgPl"
  },
  "kernelspec": {
   "display_name": "Python 3 (ipykernel)",
   "language": "python",
   "name": "python3"
  },
  "language_info": {
   "codemirror_mode": {
    "name": "ipython",
    "version": 3
   },
   "file_extension": ".py",
   "mimetype": "text/x-python",
   "name": "python",
   "nbconvert_exporter": "python",
   "pygments_lexer": "ipython3",
   "version": "3.9.5"
  },
  "varInspector": {
   "cols": {
    "lenName": 16,
    "lenType": 16,
    "lenVar": 40
   },
   "kernels_config": {
    "python": {
     "delete_cmd_postfix": "",
     "delete_cmd_prefix": "del ",
     "library": "var_list.py",
     "varRefreshCmd": "print(var_dic_list())"
    },
    "r": {
     "delete_cmd_postfix": ") ",
     "delete_cmd_prefix": "rm(",
     "library": "var_list.r",
     "varRefreshCmd": "cat(var_dic_list()) "
    }
   },
   "oldHeight": 213.4,
   "position": {
    "height": "235.4px",
    "left": "1160px",
    "right": "20px",
    "top": "126px",
    "width": "350px"
   },
   "types_to_exclude": [
    "module",
    "function",
    "builtin_function_or_method",
    "instance",
    "_Feature"
   ],
   "varInspector_section_display": "block",
   "window_display": false
  }
 },
 "nbformat": 4,
 "nbformat_minor": 2
}
