{
 "cells": [
  {
   "cell_type": "markdown",
   "metadata": {},
   "source": [
    "# Convolutional Neural Networks: Application\n",
    "\n",
    "Welcome to Course 4's second assignment! In this notebook, you will:\n",
    "\n",
    "- Create a mood classifer using the TF Keras Sequential API\n",
    "- Build a ConvNet to identify sign language digits using the TF Keras Functional API\n",
    "\n",
    "**After this assignment you will be able to:**\n",
    "\n",
    "- Build and train a ConvNet in TensorFlow for a __binary__ classification problem\n",
    "- Build and train a ConvNet in TensorFlow for a __multiclass__ classification problem\n",
    "- Explain different use cases for the Sequential and Functional APIs\n",
    "\n",
    "To complete this assignment, you should already be familiar with TensorFlow. If you are not, please refer back to the **TensorFlow Tutorial** of the third week of Course 2 (\"**Improving deep neural networks**\")."
   ]
  },
  {
   "cell_type": "markdown",
   "metadata": {},
   "source": [
    "## Table of Contents\n",
    "\n",
    "- [1 - Packages](#1)\n",
    "    - [1.1 - Load the Data and Split the Data into Train/Test Sets](#1-1)\n",
    "- [2 - Layers in TF Keras](#2)\n",
    "- [3 - The Sequential API](#3)\n",
    "    - [3.1 - Create the Sequential Model](#3-1)\n",
    "        - [Exercise 1 - happyModel](#ex-1)\n",
    "    - [3.2 - Train and Evaluate the Model](#3-2)\n",
    "- [4 - The Functional API](#4)\n",
    "    - [4.1 - Load the SIGNS Dataset](#4-1)\n",
    "    - [4.2 - Split the Data into Train/Test Sets](#4-2)\n",
    "    - [4.3 - Forward Propagation](#4-3)\n",
    "        - [Exercise 2 - convolutional_model](#ex-2)\n",
    "    - [4.4 - Train the Model](#4-4)\n",
    "- [5 - History Object](#5)\n",
    "- [6 - Bibliography](#6)"
   ]
  },
  {
   "cell_type": "markdown",
   "metadata": {},
   "source": [
    "<a name='1'></a>\n",
    "## 1 - Packages\n",
    "\n",
    "As usual, begin by loading in the packages."
   ]
  },
  {
   "cell_type": "code",
   "execution_count": 9,
   "metadata": {},
   "outputs": [],
   "source": [
    "import math\n",
    "import numpy as np\n",
    "import h5py\n",
    "import matplotlib.pyplot as plt\n",
    "from matplotlib.pyplot import imread\n",
    "import scipy\n",
    "from PIL import Image\n",
    "import pandas as pd\n",
    "import tensorflow as tf\n",
    "import tensorflow.keras.layers as tfl\n",
    "from tensorflow.python.framework import ops\n",
    "from cnn_utils import *\n",
    "from test_utils import summary, comparator\n",
    "\n",
    "%matplotlib inline\n",
    "np.random.seed(1)"
   ]
  },
  {
   "cell_type": "markdown",
   "metadata": {},
   "source": [
    "<a name='1-1'></a>\n",
    "### 1.1 - Load the Data and Split the Data into Train/Test Sets\n",
    "\n",
    "You'll be using the Happy House dataset for this part of the assignment, which contains images of peoples' faces. Your task will be to build a ConvNet that determines whether the people in the images are smiling or not -- because they only get to enter the house if they're smiling!  "
   ]
  },
  {
   "cell_type": "code",
   "execution_count": 10,
   "metadata": {},
   "outputs": [
    {
     "name": "stdout",
     "output_type": "stream",
     "text": [
      "number of training examples = 600\n",
      "number of test examples = 150\n",
      "X_train shape: (600, 64, 64, 3)\n",
      "Y_train shape: (600, 1)\n",
      "X_test shape: (150, 64, 64, 3)\n",
      "Y_test shape: (150, 1)\n"
     ]
    }
   ],
   "source": [
    "X_train_orig, Y_train_orig, X_test_orig, Y_test_orig, classes = load_happy_dataset()\n",
    "\n",
    "# Normalize image vectors\n",
    "X_train = X_train_orig/255.\n",
    "X_test = X_test_orig/255.\n",
    "\n",
    "# Reshape\n",
    "Y_train = Y_train_orig.T\n",
    "Y_test = Y_test_orig.T\n",
    "\n",
    "print (\"number of training examples = \" + str(X_train.shape[0]))\n",
    "print (\"number of test examples = \" + str(X_test.shape[0]))\n",
    "print (\"X_train shape: \" + str(X_train.shape))\n",
    "print (\"Y_train shape: \" + str(Y_train.shape))\n",
    "print (\"X_test shape: \" + str(X_test.shape))\n",
    "print (\"Y_test shape: \" + str(Y_test.shape))"
   ]
  },
  {
   "cell_type": "markdown",
   "metadata": {},
   "source": [
    "You can display the images contained in the dataset. Images are **64x64** pixels in RGB format (3 channels)."
   ]
  },
  {
   "cell_type": "code",
   "execution_count": 13,
   "metadata": {},
   "outputs": [
    {
     "data": {
      "image/png": "[encoded data removed]",
      "text/plain": [
       "<Figure size 432x288 with 1 Axes>"
      ]
     },
     "metadata": {
      "needs_background": "light"
     },
     "output_type": "display_data"
    }
   ],
   "source": [
    "index = 124\n",
    "plt.imshow(X_train_orig[index]) #display sample training image\n",
    "plt.show()"
   ]
  },
  {
   "cell_type": "code",
   "execution_count": 14,
   "metadata": {},
   "outputs": [
    {
     "data": {
      "text/plain": [
       "0"
      ]
     },
     "execution_count": 14,
     "metadata": {},
     "output_type": "execute_result"
    }
   ],
   "source": [
    "Y_train_orig[0][124]"
   ]
  },
  {
   "cell_type": "markdown",
   "metadata": {},
   "source": [
    "<a name='2'></a>\n",
    "## 2 - Layers in TF Keras \n",
    "\n",
    "In the previous assignment, you created layers manually in numpy. In TF Keras, you don't have to write code directly to create layers. Rather, TF Keras has pre-defined layers you can use. \n",
    "\n",
    "When you create a layer in TF Keras, you are creating a function that takes some input and transforms it into an output you can reuse later. Nice and easy! "
   ]
  },
  {
   "cell_type": "markdown",
   "metadata": {},
   "source": [
    "<a name='3'></a>\n",
    "## 3 - The Sequential API\n",
    "\n",
    "In the previous assignment, you built helper functions using `numpy` to understand the mechanics behind convolutional neural networks. Most practical applications of deep learning today are built using programming frameworks, which have many built-in functions you can simply call. Keras is a high-level abstraction built on top of TensorFlow, which allows for even more simplified and optimized model creation and training. \n",
    "\n",
    "For the first part of this assignment, you'll create a model using TF Keras' Sequential API, which allows you to build layer by layer, and is ideal for building models where each layer has **exactly one** input tensor and **one** output tensor. \n",
    "\n",
    "As you'll see, using the Sequential API is simple and straightforward, but is only appropriate for simpler, more straightforward tasks. Later in this notebook you'll spend some time building with a more flexible, powerful alternative: the Functional API. \n",
    " "
   ]
  },
  {
   "cell_type": "markdown",
   "metadata": {},
   "source": [
    "<a name='3-1'></a>\n",
    "### 3.1 - Create the Sequential Model\n",
    "\n",
    "As mentioned earlier, the TensorFlow Keras Sequential API can be used to build simple models with layer operations that proceed in a sequential order. \n",
    "\n",
    "You can also add layers incrementally to a Sequential model with the `.add()` method, or remove them using the `.pop()` method, much like you would in a regular Python list.\n",
    "\n",
    "Actually, you can think of a Sequential model as behaving like a list of layers. Like Python lists, Sequential layers are ordered, and the order in which they are specified matters.  If your model is non-linear or contains layers with multiple inputs or outputs, a Sequential model wouldn't be the right choice!\n",
    "\n",
    "For any layer construction in Keras, you'll need to specify the input shape in advance. This is because in Keras, the shape of the weights is based on the shape of the inputs. The weights are only created when the model first sees some input data. Sequential models can be created by passing a list of layers to the Sequential constructor, like you will do in the next assignment.\n",
    "\n",
    "<a name='ex-1'></a>\n",
    "### Exercise 1 - happyModel\n",
    "\n",
    "Implement the `happyModel` function below to build the following model: `ZEROPAD2D -> CONV2D -> BATCHNORM -> RELU -> MAXPOOL -> FLATTEN -> DENSE`. Take help from [tf.keras.layers](https://www.tensorflow.org/api_docs/python/tf/keras/layers) \n",
    "\n",
    "Also, plug in the following parameters for all the steps:\n",
    "\n",
    " - [ZeroPadding2D](https://www.tensorflow.org/api_docs/python/tf/keras/layers/ZeroPadding2D): padding 3, input shape 64 x 64 x 3\n",
    " - [Conv2D](https://www.tensorflow.org/api_docs/python/tf/keras/layers/Conv2D): Use 32 7x7 filters, stride 1\n",
    " - [BatchNormalization](https://www.tensorflow.org/api_docs/python/tf/keras/layers/BatchNormalization): for axis 3\n",
    " - [ReLU](https://www.tensorflow.org/api_docs/python/tf/keras/layers/ReLU)\n",
    " - [MaxPool2D](https://www.tensorflow.org/api_docs/python/tf/keras/layers/MaxPool2D): Using default parameters\n",
    " - [Flatten](https://www.tensorflow.org/api_docs/python/tf/keras/layers/Flatten) the previous output.\n",
    " - Fully-connected ([Dense](https://www.tensorflow.org/api_docs/python/tf/keras/layers/Dense)) layer: Apply a fully connected layer with 1 neuron and a sigmoid activation. \n",
    " \n",
    " \n",
    " **Hint:**\n",
    " \n",
    " Use **tfl** as shorthand for **tensorflow.keras.layers**"
   ]
  },
  {
   "cell_type": "code",
   "execution_count": 15,
   "metadata": {
    "deletable": false,
    "nbgrader": {
     "cell_type": "code",
     "checksum": "95d28b191f257bdd5b70c7b8952559d5",
     "grade": false,
     "grade_id": "cell-0e56d3fc28b69aec",
     "locked": false,
     "schema_version": 3,
     "solution": true,
     "task": false
    }
   },
   "outputs": [],
   "source": [
    "# GRADED FUNCTION: happyModel\n",
    "\n",
    "def happyModel():\n",
    "    \"\"\"\n",
    "    Implements the forward propagation for the binary classification model:\n",
    "    ZEROPAD2D -> CONV2D -> BATCHNORM -> RELU -> MAXPOOL -> FLATTEN -> DENSE\n",
    "    \n",
    "    Note that for simplicity and grading purposes, you'll hard-code all the values\n",
    "    such as the stride and kernel (filter) sizes. \n",
    "    Normally, functions should take these values as function parameters.\n",
    "    \n",
    "    Arguments:\n",
    "    None\n",
    "\n",
    "    Returns:\n",
    "    model -- TF Keras model (object containing the information for the entire training process) \n",
    "    \"\"\"\n",
    "    model = tf.keras.Sequential([\n",
    "            tf.keras.Input(shape=(64 , 64 ,3)),\n",
    "            ## ZeroPadding2D with padding 3, input shape of 64 x 64 x 3\n",
    "            tfl.ZeroPadding2D(padding=3), # As import tensorflow.keras.layers as tfl\n",
    "            ## Conv2D with 32 7x7 filters and stride of 1\n",
    "            tfl.Conv2D(filters=32,kernel_size=7,strides=1),\n",
    "            ## BatchNormalization for axis 3\n",
    "            tfl.BatchNormalization(axis=3, momentum=0.99, epsilon=0.001),\n",
    "            ## ReLU\n",
    "            tfl.ReLU(),\n",
    "            ## Max Pooling 2D with default parameters\n",
    "            tfl.MaxPool2D(),\n",
    "            ## Flatten layer\n",
    "            tfl.Flatten(),\n",
    "            ## Dense layer with 1 unit for output & 'sigmoid' activation\n",
    "            tfl.Dense(1,activation='sigmoid')\n",
    "        ])\n",
    "    \n",
    "    return model"
   ]
  },
  {
   "cell_type": "code",
   "execution_count": 19,
   "metadata": {
    "deletable": false,
    "editable": false,
    "nbgrader": {
     "cell_type": "code",
     "checksum": "8d3575c950e2e78149be2d05d671c80d",
     "grade": true,
     "grade_id": "cell-e3e1046e5c33d775",
     "locked": true,
     "points": 10,
     "schema_version": 3,
     "solution": false,
     "task": false
    }
   },
   "outputs": [
    {
     "name": "stderr",
     "output_type": "stream",
     "text": [
      "2022-06-12 12:34:57.403039: W tensorflow/stream_executor/platform/default/dso_loader.cc:64] Could not load dynamic library 'libcuda.so.1'; dlerror: libcuda.so.1: cannot open shared object file: No such file or directory\n",
      "2022-06-12 12:34:57.437668: W tensorflow/stream_executor/cuda/cuda_driver.cc:269] failed call to cuInit: UNKNOWN ERROR (303)\n",
      "2022-06-12 12:34:57.453025: I tensorflow/stream_executor/cuda/cuda_diagnostics.cc:156] kernel driver does not appear to be running on this host (martian07-HP-Pavilion-g6-Notebook-PC): /proc/driver/nvidia/version does not exist\n"
     ]
    },
    {
     "name": "stdout",
     "output_type": "stream",
     "text": [
      "['ZeroPadding2D', (None, 70, 70, 3), 0, ((3, 3), (3, 3))]\n",
      "['Conv2D', (None, 64, 64, 32), 4736, 'valid', 'linear', 'GlorotUniform']\n",
      "['BatchNormalization', (None, 64, 64, 32), 128]\n",
      "['ReLU', (None, 64, 64, 32), 0]\n",
      "['MaxPooling2D', (None, 32, 32, 32), 0, (2, 2), (2, 2), 'valid']\n",
      "['Flatten', (None, 32768), 0]\n",
      "['Dense', (None, 1), 32769, 'sigmoid']\n",
      "\u001b[32mAll tests passed!\u001b[0m\n"
     ]
    }
   ],
   "source": [
    "happy_model = happyModel()\n",
    "# Print a summary for each layer\n",
    "for layer in summary(happy_model):\n",
    "    print(layer)\n",
    "    \n",
    "output = [['ZeroPadding2D', (None, 70, 70, 3), 0, ((3, 3), (3, 3))],\n",
    "            ['Conv2D', (None, 64, 64, 32), 4736, 'valid', 'linear', 'GlorotUniform'],\n",
    "            ['BatchNormalization', (None, 64, 64, 32), 128],\n",
    "            ['ReLU', (None, 64, 64, 32), 0],\n",
    "            ['MaxPooling2D', (None, 32, 32, 32), 0, (2, 2), (2, 2), 'valid'],\n",
    "            ['Flatten', (None, 32768), 0],\n",
    "            ['Dense', (None, 1), 32769, 'sigmoid']]\n",
    "    \n",
    "comparator(summary(happy_model), output)"
   ]
  },
  {
   "cell_type": "markdown",
   "metadata": {},
   "source": [
    "Now that your model is created, you can compile it for training with an optimizer and loss of your choice. When the string `accuracy` is specified as a metric, the type of accuracy used will be automatically converted based on the loss function used. This is one of the many optimizations built into TensorFlow that make your life easier! If you'd like to read more on how the compiler operates, check the docs [here](https://www.tensorflow.org/api_docs/python/tf/keras/Model#compile)."
   ]
  },
  {
   "cell_type": "code",
   "execution_count": 22,
   "metadata": {},
   "outputs": [],
   "source": [
    "happy_model.compile(optimizer='SGD',\n",
    "                   loss='binary_crossentropy',\n",
    "                   metrics=['accuracy'])"
   ]
  },
  {
   "cell_type": "markdown",
   "metadata": {},
   "source": [
    "It's time to check your model's parameters with the `.summary()` method. This will display the types of layers you have, the shape of the outputs, and how many parameters are in each layer. "
   ]
  },
  {
   "cell_type": "code",
   "execution_count": 23,
   "metadata": {},
   "outputs": [
    {
     "name": "stdout",
     "output_type": "stream",
     "text": [
      "Model: \"sequential\"\n",
      "_________________________________________________________________\n",
      " Layer (type)                Output Shape              Param #   \n",
      "=================================================================\n",
      " zero_padding2d (ZeroPadding  (None, 70, 70, 3)        0         \n",
      " 2D)                                                             \n",
      "                                                                 \n",
      " conv2d (Conv2D)             (None, 64, 64, 32)        4736      \n",
      "                                                                 \n",
      " batch_normalization (BatchN  (None, 64, 64, 32)       128       \n",
      " ormalization)                                                   \n",
      "                                                                 \n",
      " re_lu (ReLU)                (None, 64, 64, 32)        0         \n",
      "                                                                 \n",
      " max_pooling2d (MaxPooling2D  (None, 32, 32, 32)       0         \n",
      " )                                                               \n",
      "                                                                 \n",
      " flatten (Flatten)           (None, 32768)             0         \n",
      "                                                                 \n",
      " dense (Dense)               (None, 1)                 32769     \n",
      "                                                                 \n",
      "=================================================================\n",
      "Total params: 37,633\n",
      "Trainable params: 37,569\n",
      "Non-trainable params: 64\n",
      "_________________________________________________________________\n"
     ]
    }
   ],
   "source": [
    "happy_model.summary()"
   ]
  },
  {
   "cell_type": "markdown",
   "metadata": {},
   "source": [
    "<a name='3-2'></a>\n",
    "### 3.2 - Train and Evaluate the Model\n",
    "\n",
    "After creating the model, compiling it with your choice of optimizer and loss function, and doing a sanity check on its contents, you are now ready to build! \n",
    "\n",
    "Simply call `.fit()` to train. That's it! No need for mini-batching, saving, or complex backpropagation computations. That's all been done for you, as you're using a TensorFlow dataset with the batches specified already. You do have the option to specify epoch number or minibatch size if you like (for example, in the case of an un-batched dataset)."
   ]
  },
  {
   "cell_type": "code",
   "execution_count": 24,
   "metadata": {},
   "outputs": [
    {
     "name": "stdout",
     "output_type": "stream",
     "text": [
      "Epoch 1/10\n",
      "38/38 [==============================] - 11s 172ms/step - loss: 11.2131 - accuracy: 0.5200\n",
      "Epoch 2/10\n",
      "38/38 [==============================] - 7s 172ms/step - loss: 2.8375 - accuracy: 0.6950\n",
      "Epoch 3/10\n",
      "38/38 [==============================] - 7s 171ms/step - loss: 0.8443 - accuracy: 0.8317\n",
      "Epoch 4/10\n",
      "38/38 [==============================] - 6s 167ms/step - loss: 0.3781 - accuracy: 0.8883\n",
      "Epoch 5/10\n",
      "38/38 [==============================] - 6s 164ms/step - loss: 0.4893 - accuracy: 0.8900\n",
      "Epoch 6/10\n",
      "38/38 [==============================] - 6s 166ms/step - loss: 0.2356 - accuracy: 0.9233\n",
      "Epoch 7/10\n",
      "38/38 [==============================] - 6s 165ms/step - loss: 0.1497 - accuracy: 0.9517\n",
      "Epoch 8/10\n",
      "38/38 [==============================] - 6s 165ms/step - loss: 0.2749 - accuracy: 0.9167\n",
      "Epoch 9/10\n",
      "38/38 [==============================] - 6s 166ms/step - loss: 0.2048 - accuracy: 0.9400\n",
      "Epoch 10/10\n",
      "38/38 [==============================] - 6s 162ms/step - loss: 0.0801 - accuracy: 0.9717\n"
     ]
    },
    {
     "data": {
      "text/plain": [
       "<keras.callbacks.History at 0x7f630598ee20>"
      ]
     },
     "execution_count": 24,
     "metadata": {},
     "output_type": "execute_result"
    }
   ],
   "source": [
    "happy_model.fit(X_train, Y_train, epochs=10, batch_size=16)"
   ]
  },
  {
   "cell_type": "markdown",
   "metadata": {},
   "source": [
    "After that completes, just use `.evaluate()` to evaluate against your test set. This function will print the value of the loss function and the performance metrics specified during the compilation of the model. In this case, the `binary_crossentropy` and the `accuracy` respectively."
   ]
  },
  {
   "cell_type": "code",
   "execution_count": 25,
   "metadata": {},
   "outputs": [
    {
     "name": "stdout",
     "output_type": "stream",
     "text": [
      "5/5 [==============================] - 1s 84ms/step - loss: 0.1335 - accuracy: 0.9600\n"
     ]
    },
    {
     "data": {
      "text/plain": [
       "[0.1335335373878479, 0.9599999785423279]"
      ]
     },
     "execution_count": 25,
     "metadata": {},
     "output_type": "execute_result"
    }
   ],
   "source": [
    "happy_model.evaluate(X_test, Y_test)"
   ]
  },
  {
   "cell_type": "markdown",
   "metadata": {},
   "source": [
    "Easy, right? But what if you need to build a model with shared layers, branches, or multiple inputs and outputs? This is where Sequential, with its beautifully simple yet limited functionality, won't be able to help you. \n",
    "\n",
    "Next up: Enter the Functional API, your slightly more complex, highly flexible friend.  "
   ]
  },
  {
   "cell_type": "markdown",
   "metadata": {},
   "source": [
    "<a name='4'></a>\n",
    "## 4 - The Functional API"
   ]
  },
  {
   "cell_type": "markdown",
   "metadata": {},
   "source": [
    "Welcome to the second half of the assignment, where you'll use Keras' flexible [Functional API](https://www.tensorflow.org/guide/keras/functional) to build a ConvNet that can differentiate between 6 sign language digits. \n",
    "\n",
    "The Functional API can handle models with non-linear topology, shared layers, as well as layers with multiple inputs or outputs. Imagine that, where the Sequential API requires the model to move in a linear fashion through its layers, the Functional API allows much more flexibility. Where Sequential is a straight line, a Functional model is a graph, where the nodes of the layers can connect in many more ways than one. \n",
    "\n",
    "In the visual example below, the one possible direction of the movement Sequential model is shown in contrast to a skip connection, which is just one of the many ways a Functional model can be constructed. A skip connection, as you might have guessed, skips some layer in the network and feeds the output to a later layer in the network. Don't worry, you'll be spending more time with skip connections very soon! "
   ]
  },
  {
   "cell_type": "markdown",
   "metadata": {},
   "source": [
    "<img src=\"images/seq_vs_func.png\" style=\"width:350px;height:200px;\">"
   ]
  },
  {
   "cell_type": "code",
   "execution_count": 26,
   "metadata": {},
   "outputs": [
    {
     "name": "stdout",
     "output_type": "stream",
     "text": [
      "y = 1\n"
     ]
    },
    {
     "data": {
      "image/png": "[encoded data removed]",
      "text/plain": [
       "<Figure size 432x288 with 1 Axes>"
      ]
     },
     "metadata": {
      "needs_background": "light"
     },
     "output_type": "display_data"
    }
   ],
   "source": [
    "# Example of an image from the dataset\n",
    "index = 9\n",
    "plt.imshow(X_train_orig[index])\n",
    "print (\"y = \" + str(np.squeeze(Y_train_orig[:, index])))"
   ]
  },
  {
   "cell_type": "markdown",
   "metadata": {},
   "source": [
    "<a name='4-2'></a>\n",
    "### 4.2 - Split the Data into Train/Test Sets\n",
    "\n",
    "In Course 2, you built a fully-connected network for this dataset. But since this is an image dataset, it is more natural to apply a ConvNet to it.\n",
    "\n",
    "To get started, let's examine the shapes of your data. "
   ]
  },
  {
   "cell_type": "code",
   "execution_count": 11,
   "metadata": {},
   "outputs": [
    {
     "name": "stdout",
     "output_type": "stream",
     "text": [
      "number of training examples = 600\n",
      "number of test examples = 150\n",
      "X_train shape: (600, 64, 64, 3)\n",
      "Y_train shape: (600, 6)\n",
      "X_test shape: (150, 64, 64, 3)\n",
      "Y_test shape: (150, 6)\n"
     ]
    }
   ],
   "source": [
    "X_train = X_train_orig/255.\n",
    "X_test = X_test_orig/255.\n",
    "Y_train = convert_to_one_hot(Y_train_orig, 6).T\n",
    "Y_test = convert_to_one_hot(Y_test_orig, 6).T\n",
    "print (\"number of training examples = \" + str(X_train.shape[0]))\n",
    "print (\"number of test examples = \" + str(X_test.shape[0]))\n",
    "print (\"X_train shape: \" + str(X_train.shape))\n",
    "print (\"Y_train shape: \" + str(Y_train.shape))\n",
    "print (\"X_test shape: \" + str(X_test.shape))\n",
    "print (\"Y_test shape: \" + str(Y_test.shape))"
   ]
  },
  {
   "cell_type": "markdown",
   "metadata": {},
   "source": [
    "<a name='4-3'></a>\n",
    "### 4.3 - Forward Propagation\n",
    "\n",
    "In TensorFlow, there are built-in functions that implement the convolution steps for you. By now, you should be familiar with how TensorFlow builds computational graphs. In the [Functional API](https://www.tensorflow.org/guide/keras/functional), you create a graph of layers. This is what allows such great flexibility.\n",
    "\n",
    "However, the following model could also be defined using the Sequential API since the information flow is on a single line. But don't deviate. What we want you to learn is to use the functional API.\n",
    "\n",
    "Begin building your graph of layers by creating an input node that functions as a callable object:\n",
    "\n",
    "- **input_img = tf.keras.Input(shape=input_shape):** \n",
    "\n",
    "Then, create a new node in the graph of layers by calling a layer on the `input_img` object: \n",
    "\n",
    "- **tf.keras.layers.Conv2D(filters= ... , kernel_size= ... , padding='same')(input_img):** Read the full documentation on [Conv2D](https://www.tensorflow.org/api_docs/python/tf/keras/layers/Conv2D).\n",
    "\n",
    "- **tf.keras.layers.MaxPool2D(pool_size=(f, f), strides=(s, s), padding='same'):** `MaxPool2D()` downsamples your input using a window of size (f, f) and strides of size (s, s) to carry out max pooling over each window.  For max pooling, you usually operate on a single example at a time and a single channel at a time. Read the full documentation on [MaxPool2D](https://www.tensorflow.org/api_docs/python/tf/keras/layers/MaxPool2D).\n",
    "\n",
    "- **tf.keras.layers.ReLU():** computes the elementwise ReLU of Z (which can be any shape). You can read the full documentation on [ReLU](https://www.tensorflow.org/api_docs/python/tf/keras/layers/ReLU).\n",
    "\n",
    "- **tf.keras.layers.Flatten()**: given a tensor \"P\", this function takes each training (or test) example in the batch and flattens it into a 1D vector.  \n",
    "\n",
    "    * If a tensor P has the shape (batch_size,h,w,c), it returns a flattened tensor with shape (batch_size, k), where $k=h \\times w \\times c$.  \"k\" equals the product of all the dimension sizes other than the first dimension.\n",
    "    \n",
    "    * For example, given a tensor with dimensions [100, 2, 3, 4], it flattens the tensor to be of shape [100, 24], where 24 = 2 * 3 * 4.  You can read the full documentation on [Flatten](https://www.tensorflow.org/api_docs/python/tf/keras/layers/Flatten).\n",
    "\n",
    "- **tf.keras.layers.Dense(units= ... , activation='softmax')(F):** given the flattened input F, it returns the output computed using a fully connected layer. You can read the full documentation on [Dense](https://www.tensorflow.org/api_docs/python/tf/keras/layers/Dense).\n",
    "\n",
    "In the last function above (`tf.keras.layers.Dense()`), the fully connected layer automatically initializes weights in the graph and keeps on training them as you train the model. Hence, you did not need to initialize those weights when initializing the parameters.\n",
    "\n",
    "Lastly, before creating the model, you'll need to define the output using the last of the function's compositions (in this example, a Dense layer): \n",
    "\n",
    "- **outputs = tf.keras.layers.Dense(units=6, activation='softmax')(F)**\n",
    "\n",
    "\n",
    "#### Window, kernel, filter, pool\n",
    "\n",
    "The words \"kernel\" and \"filter\" are used to refer to the same thing. The word \"filter\" accounts for the amount of \"kernels\" that will be used in a single convolution layer. \"Pool\" is the name of the operation that takes the max or average value of the kernels. \n",
    "\n",
    "This is why the parameter `pool_size` refers to `kernel_size`, and you use `(f,f)` to refer to the filter size. \n",
    "\n",
    "Pool size and kernel size refer to the same thing in different objects - They refer to the shape of the window where the operation takes place. "
   ]
  },
  {
   "cell_type": "markdown",
   "metadata": {},
   "source": [
    "<a name='ex-2'></a>\n",
    "### Exercise 2 - convolutional_model\n",
    "\n",
    "Implement the `convolutional_model` function below to build the following model: `CONV2D -> RELU -> MAXPOOL -> CONV2D -> RELU -> MAXPOOL -> FLATTEN -> DENSE`. Use the functions above! \n",
    "\n",
    "Also, plug in the following parameters for all the steps:\n",
    "\n",
    " - [Conv2D](https://www.tensorflow.org/api_docs/python/tf/keras/layers/Conv2D): Use 8 4 by 4 filters, stride 1, padding is \"SAME\"\n",
    " - [ReLU](https://www.tensorflow.org/api_docs/python/tf/keras/layers/ReLU)\n",
    " - [MaxPool2D](https://www.tensorflow.org/api_docs/python/tf/keras/layers/MaxPool2D): Use an 8 by 8 filter size and an 8 by 8 stride, padding is \"SAME\"\n",
    " - **Conv2D**: Use 16 2 by 2 filters, stride 1, padding is \"SAME\"\n",
    " - **ReLU**\n",
    " - **MaxPool2D**: Use a 4 by 4 filter size and a 4 by 4 stride, padding is \"SAME\"\n",
    " - [Flatten](https://www.tensorflow.org/api_docs/python/tf/keras/layers/Flatten) the previous output.\n",
    " - Fully-connected ([Dense](https://www.tensorflow.org/api_docs/python/tf/keras/layers/Dense)) layer: Apply a fully connected layer with 6 neurons and a softmax activation. "
   ]
  },
  {
   "cell_type": "code",
   "execution_count": 31,
   "metadata": {
    "deletable": false,
    "nbgrader": {
     "cell_type": "code",
     "checksum": "f58643806aa8380c96225fc8b4c5e7aa",
     "grade": false,
     "grade_id": "cell-dac51744a9e03f51",
     "locked": false,
     "schema_version": 3,
     "solution": true,
     "task": false
    }
   },
   "outputs": [],
   "source": [
    "# GRADED FUNCTION: convolutional_model\n",
    "\n",
    "def convolutional_model(input_shape):\n",
    "    \"\"\"\n",
    "    Implements the forward propagation for the model:\n",
    "    CONV2D -> RELU -> MAXPOOL -> CONV2D -> RELU -> MAXPOOL -> FLATTEN -> DENSE\n",
    "    \n",
    "    Note that for simplicity and grading purposes, you'll hard-code some values\n",
    "    such as the stride and kernel (filter) sizes. \n",
    "    Normally, functions should take these values as function parameters.\n",
    "    \n",
    "    Arguments:\n",
    "    input_img -- input dataset, of shape (input_shape)\n",
    "\n",
    "    Returns:\n",
    "    model -- TF Keras model (object containing the information for the entire training process) \n",
    "    \"\"\"\n",
    "\n",
    "    input_img = tf.keras.Input(shape=input_shape)\n",
    "    ## CONV2D: 8 filters 4x4, stride of 1, padding 'SAME'\n",
    "    Z1 = tfl.Conv2D(filters= 8. , kernel_size=4 , padding='same',strides=1)(input_img)\n",
    "    ## RELU\n",
    "    A1 = tfl.ReLU()(Z1)\n",
    "    ## MAXPOOL: window 8x8, stride 8, padding 'SAME'\n",
    "    P1 = tfl.MaxPool2D(pool_size=8, strides=8, padding='SAME')(A1)\n",
    "    ## CONV2D: 16 filters 2x2, stride 1, padding 'SAME'\n",
    "    Z2 = tfl.Conv2D(filters= 16. , kernel_size=2 , padding='same',strides=1)(P1)\n",
    "    ## RELU\n",
    "    A2 =  tfl.ReLU()(Z2)\n",
    "    ## MAXPOOL: window 4x4, stride 4, padding 'SAME'\n",
    "    P2 = tfl.MaxPool2D(pool_size=4, strides=4, padding='SAME')(A2)\n",
    "    ## FLATTEN\n",
    "    F = tfl.Flatten()(P2)\n",
    "    ## Dense layer\n",
    "    ## 6 neurons in output layer. Hint: one of the arguments should be \"activation='softmax'\" \n",
    "    outputs = tfl.Dense(units= 1 , activation='sigmoid')(F)\n",
    "    model = tf.keras.Model(inputs=input_img, outputs=outputs)\n",
    "    return model"
   ]
  },
  {
   "cell_type": "code",
   "execution_count": 34,
   "metadata": {},
   "outputs": [
    {
     "name": "stdout",
     "output_type": "stream",
     "text": [
      "Model: \"model_4\"\n",
      "_________________________________________________________________\n",
      " Layer (type)                Output Shape              Param #   \n",
      "=================================================================\n",
      " input_6 (InputLayer)        [(None, 64, 64, 3)]       0         \n",
      "                                                                 \n",
      " conv2d_9 (Conv2D)           (None, 64, 64, 8)         392       \n",
      "                                                                 \n",
      " re_lu_9 (ReLU)              (None, 64, 64, 8)         0         \n",
      "                                                                 \n",
      " max_pooling2d_9 (MaxPooling  (None, 8, 8, 8)          0         \n",
      " 2D)                                                             \n",
      "                                                                 \n",
      " conv2d_10 (Conv2D)          (None, 8, 8, 16)          528       \n",
      "                                                                 \n",
      " re_lu_10 (ReLU)             (None, 8, 8, 16)          0         \n",
      "                                                                 \n",
      " max_pooling2d_10 (MaxPoolin  (None, 2, 2, 16)         0         \n",
      " g2D)                                                            \n",
      "                                                                 \n",
      " flatten_5 (Flatten)         (None, 64)                0         \n",
      "                                                                 \n",
      " dense_5 (Dense)             (None, 1)                 65        \n",
      "                                                                 \n",
      "=================================================================\n",
      "Total params: 985\n",
      "Trainable params: 985\n",
      "Non-trainable params: 0\n",
      "_________________________________________________________________\n"
     ]
    }
   ],
   "source": [
    "conv_model = convolutional_model((64, 64, 3))\n",
    "conv_model.compile(optimizer='adam',\n",
    "                  loss='binary_crossentropy',\n",
    "                  metrics=['accuracy'])\n",
    "conv_model.summary()\n",
    "    \n"
   ]
  },
  {
   "cell_type": "code",
   "execution_count": 29,
   "metadata": {
    "deletable": false,
    "editable": false,
    "nbgrader": {
     "cell_type": "code",
     "checksum": "483d626949930a0b0ef20997e7c6ba72",
     "grade": true,
     "grade_id": "cell-45d22e92042174c9",
     "locked": true,
     "points": 10,
     "schema_version": 3,
     "solution": false,
     "task": false
    }
   },
   "outputs": [
    {
     "name": "stdout",
     "output_type": "stream",
     "text": [
      "Model: \"model\"\n",
      "_________________________________________________________________\n",
      " Layer (type)                Output Shape              Param #   \n",
      "=================================================================\n",
      " input_2 (InputLayer)        [(None, 64, 64, 3)]       0         \n",
      "                                                                 \n",
      " conv2d_1 (Conv2D)           (None, 64, 64, 8)         392       \n",
      "                                                                 \n",
      " re_lu_1 (ReLU)              (None, 64, 64, 8)         0         \n",
      "                                                                 \n",
      " max_pooling2d_1 (MaxPooling  (None, 8, 8, 8)          0         \n",
      " 2D)                                                             \n",
      "                                                                 \n",
      " conv2d_2 (Conv2D)           (None, 8, 8, 16)          528       \n",
      "                                                                 \n",
      " re_lu_2 (ReLU)              (None, 8, 8, 16)          0         \n",
      "                                                                 \n",
      " max_pooling2d_2 (MaxPooling  (None, 2, 2, 16)         0         \n",
      " 2D)                                                             \n",
      "                                                                 \n",
      " flatten_1 (Flatten)         (None, 64)                0         \n",
      "                                                                 \n",
      " dense_1 (Dense)             (None, 6)                 390       \n",
      "                                                                 \n",
      "=================================================================\n",
      "Total params: 1,310\n",
      "Trainable params: 1,310\n",
      "Non-trainable params: 0\n",
      "_________________________________________________________________\n",
      "\u001b[32mAll tests passed!\u001b[0m\n"
     ]
    }
   ],
   "source": [
    "conv_model = convolutional_model((64, 64, 3))\n",
    "conv_model.compile(optimizer='adam',\n",
    "                  loss='categorical_crossentropy',\n",
    "                  metrics=['accuracy'])\n",
    "conv_model.summary()\n",
    "    \n",
    "output = [['InputLayer', [(None, 64, 64, 3)], 0],\n",
    "        ['Conv2D', (None, 64, 64, 8), 392, 'same', 'linear', 'GlorotUniform'],\n",
    "        ['ReLU', (None, 64, 64, 8), 0],\n",
    "        ['MaxPooling2D', (None, 8, 8, 8), 0, (8, 8), (8, 8), 'same'],\n",
    "        ['Conv2D', (None, 8, 8, 16), 528, 'same', 'linear', 'GlorotUniform'],\n",
    "        ['ReLU', (None, 8, 8, 16), 0],\n",
    "        ['MaxPooling2D', (None, 2, 2, 16), 0, (4, 4), (4, 4), 'same'],\n",
    "        ['Flatten', (None, 64), 0],\n",
    "        ['Dense', (None, 6), 390, 'softmax']]\n",
    "    \n",
    "comparator(summary(conv_model), output)"
   ]
  },
  {
   "cell_type": "markdown",
   "metadata": {},
   "source": [
    "Both the Sequential and Functional APIs return a TF Keras model object. The only difference is how inputs are handled inside the object model! "
   ]
  },
  {
   "cell_type": "markdown",
   "metadata": {},
   "source": [
    "<a name='4-4'></a>\n",
    "### 4.4 - Train the Model"
   ]
  },
  {
   "cell_type": "code",
   "execution_count": 35,
   "metadata": {},
   "outputs": [
    {
     "name": "stderr",
     "output_type": "stream",
     "text": [
      "2022-06-12 12:47:26.870158: W tensorflow/core/framework/cpu_allocator_impl.cc:82] Allocation of 58982400 exceeds 10% of free system memory.\n",
      "2022-06-12 12:47:27.135626: W tensorflow/core/framework/cpu_allocator_impl.cc:82] Allocation of 58982400 exceeds 10% of free system memory.\n"
     ]
    },
    {
     "name": "stdout",
     "output_type": "stream",
     "text": [
      "Epoch 1/100\n"
     ]
    },
    {
     "name": "stderr",
     "output_type": "stream",
     "text": [
      "2022-06-12 12:47:27.812457: W tensorflow/core/framework/cpu_allocator_impl.cc:82] Allocation of 58982400 exceeds 10% of free system memory.\n"
     ]
    },
    {
     "name": "stdout",
     "output_type": "stream",
     "text": [
      "10/10 [==============================] - 3s 174ms/step - loss: 0.6855 - accuracy: 0.5467 - val_loss: 0.6804 - val_accuracy: 0.6733\n",
      "Epoch 2/100\n"
     ]
    },
    {
     "name": "stderr",
     "output_type": "stream",
     "text": [
      "2022-06-12 12:47:30.923626: W tensorflow/core/framework/cpu_allocator_impl.cc:82] Allocation of 58982400 exceeds 10% of free system memory.\n"
     ]
    },
    {
     "name": "stdout",
     "output_type": "stream",
     "text": [
      "10/10 [==============================] - 1s 145ms/step - loss: 0.6772 - accuracy: 0.6867 - val_loss: 0.6767 - val_accuracy: 0.6400\n",
      "Epoch 3/100\n"
     ]
    },
    {
     "name": "stderr",
     "output_type": "stream",
     "text": [
      "2022-06-12 12:47:32.489864: W tensorflow/core/framework/cpu_allocator_impl.cc:82] Allocation of 58982400 exceeds 10% of free system memory.\n"
     ]
    },
    {
     "name": "stdout",
     "output_type": "stream",
     "text": [
      "10/10 [==============================] - 1s 147ms/step - loss: 0.6718 - accuracy: 0.7017 - val_loss: 0.6702 - val_accuracy: 0.7200\n",
      "Epoch 4/100\n",
      "10/10 [==============================] - 1s 138ms/step - loss: 0.6648 - accuracy: 0.7500 - val_loss: 0.6638 - val_accuracy: 0.7400\n",
      "Epoch 5/100\n",
      "10/10 [==============================] - 2s 164ms/step - loss: 0.6579 - accuracy: 0.7717 - val_loss: 0.6575 - val_accuracy: 0.7400\n",
      "Epoch 6/100\n",
      "10/10 [==============================] - 2s 162ms/step - loss: 0.6503 - accuracy: 0.7800 - val_loss: 0.6517 - val_accuracy: 0.7400\n",
      "Epoch 7/100\n",
      "10/10 [==============================] - 1s 145ms/step - loss: 0.6415 - accuracy: 0.7750 - val_loss: 0.6421 - val_accuracy: 0.7333\n",
      "Epoch 8/100\n",
      "10/10 [==============================] - 1s 138ms/step - loss: 0.6313 - accuracy: 0.7717 - val_loss: 0.6335 - val_accuracy: 0.7267\n",
      "Epoch 9/100\n",
      "10/10 [==============================] - 1s 143ms/step - loss: 0.6204 - accuracy: 0.7817 - val_loss: 0.6238 - val_accuracy: 0.7267\n",
      "Epoch 10/100\n",
      "10/10 [==============================] - 2s 153ms/step - loss: 0.6088 - accuracy: 0.7783 - val_loss: 0.6138 - val_accuracy: 0.7267\n",
      "Epoch 11/100\n",
      "10/10 [==============================] - 2s 189ms/step - loss: 0.5962 - accuracy: 0.7817 - val_loss: 0.6031 - val_accuracy: 0.7267\n",
      "Epoch 12/100\n",
      "10/10 [==============================] - 1s 141ms/step - loss: 0.5828 - accuracy: 0.7817 - val_loss: 0.5919 - val_accuracy: 0.7333\n",
      "Epoch 13/100\n",
      "10/10 [==============================] - 1s 141ms/step - loss: 0.5688 - accuracy: 0.7883 - val_loss: 0.5805 - val_accuracy: 0.7333\n",
      "Epoch 14/100\n",
      "10/10 [==============================] - 2s 153ms/step - loss: 0.5545 - accuracy: 0.7900 - val_loss: 0.5698 - val_accuracy: 0.7467\n",
      "Epoch 15/100\n",
      "10/10 [==============================] - 1s 144ms/step - loss: 0.5402 - accuracy: 0.7950 - val_loss: 0.5587 - val_accuracy: 0.7467\n",
      "Epoch 16/100\n",
      "10/10 [==============================] - 2s 170ms/step - loss: 0.5261 - accuracy: 0.8050 - val_loss: 0.5498 - val_accuracy: 0.7600\n",
      "Epoch 17/100\n",
      "10/10 [==============================] - 2s 182ms/step - loss: 0.5125 - accuracy: 0.8133 - val_loss: 0.5415 - val_accuracy: 0.7600\n",
      "Epoch 18/100\n",
      "10/10 [==============================] - 1s 147ms/step - loss: 0.4998 - accuracy: 0.8100 - val_loss: 0.5325 - val_accuracy: 0.7667\n",
      "Epoch 19/100\n",
      "10/10 [==============================] - 2s 162ms/step - loss: 0.4870 - accuracy: 0.8167 - val_loss: 0.5247 - val_accuracy: 0.7667\n",
      "Epoch 20/100\n",
      "10/10 [==============================] - 1s 147ms/step - loss: 0.4753 - accuracy: 0.8267 - val_loss: 0.5180 - val_accuracy: 0.7667\n",
      "Epoch 21/100\n",
      "10/10 [==============================] - 2s 152ms/step - loss: 0.4641 - accuracy: 0.8283 - val_loss: 0.5106 - val_accuracy: 0.7667\n",
      "Epoch 22/100\n",
      "10/10 [==============================] - 1s 144ms/step - loss: 0.4530 - accuracy: 0.8367 - val_loss: 0.5040 - val_accuracy: 0.7667\n",
      "Epoch 23/100\n",
      "10/10 [==============================] - 1s 142ms/step - loss: 0.4423 - accuracy: 0.8417 - val_loss: 0.4967 - val_accuracy: 0.7667\n",
      "Epoch 24/100\n",
      "10/10 [==============================] - 1s 150ms/step - loss: 0.4316 - accuracy: 0.8433 - val_loss: 0.4887 - val_accuracy: 0.7667\n",
      "Epoch 25/100\n",
      "10/10 [==============================] - 1s 142ms/step - loss: 0.4213 - accuracy: 0.8483 - val_loss: 0.4824 - val_accuracy: 0.7733\n",
      "Epoch 26/100\n",
      "10/10 [==============================] - 1s 136ms/step - loss: 0.4111 - accuracy: 0.8550 - val_loss: 0.4755 - val_accuracy: 0.7800\n",
      "Epoch 27/100\n",
      "10/10 [==============================] - 1s 138ms/step - loss: 0.4017 - accuracy: 0.8617 - val_loss: 0.4704 - val_accuracy: 0.7867\n",
      "Epoch 28/100\n",
      "10/10 [==============================] - 1s 139ms/step - loss: 0.3918 - accuracy: 0.8650 - val_loss: 0.4608 - val_accuracy: 0.7867\n",
      "Epoch 29/100\n",
      "10/10 [==============================] - 1s 140ms/step - loss: 0.3809 - accuracy: 0.8700 - val_loss: 0.4516 - val_accuracy: 0.7867\n",
      "Epoch 30/100\n",
      "10/10 [==============================] - 1s 141ms/step - loss: 0.3709 - accuracy: 0.8733 - val_loss: 0.4458 - val_accuracy: 0.7933\n",
      "Epoch 31/100\n",
      "10/10 [==============================] - 1s 139ms/step - loss: 0.3616 - accuracy: 0.8783 - val_loss: 0.4397 - val_accuracy: 0.7933\n",
      "Epoch 32/100\n",
      "10/10 [==============================] - 1s 139ms/step - loss: 0.3529 - accuracy: 0.8817 - val_loss: 0.4328 - val_accuracy: 0.7933\n",
      "Epoch 33/100\n",
      "10/10 [==============================] - 1s 136ms/step - loss: 0.3439 - accuracy: 0.8833 - val_loss: 0.4227 - val_accuracy: 0.7933\n",
      "Epoch 34/100\n",
      "10/10 [==============================] - 1s 136ms/step - loss: 0.3345 - accuracy: 0.8867 - val_loss: 0.4156 - val_accuracy: 0.7933\n",
      "Epoch 35/100\n",
      "10/10 [==============================] - 1s 136ms/step - loss: 0.3260 - accuracy: 0.8883 - val_loss: 0.4094 - val_accuracy: 0.7867\n",
      "Epoch 36/100\n",
      "10/10 [==============================] - 1s 138ms/step - loss: 0.3181 - accuracy: 0.8900 - val_loss: 0.4017 - val_accuracy: 0.8000\n",
      "Epoch 37/100\n",
      "10/10 [==============================] - 1s 142ms/step - loss: 0.3103 - accuracy: 0.8917 - val_loss: 0.3938 - val_accuracy: 0.8067\n",
      "Epoch 38/100\n",
      "10/10 [==============================] - 1s 140ms/step - loss: 0.3025 - accuracy: 0.8933 - val_loss: 0.3862 - val_accuracy: 0.8200\n",
      "Epoch 39/100\n",
      "10/10 [==============================] - 1s 136ms/step - loss: 0.2953 - accuracy: 0.8950 - val_loss: 0.3781 - val_accuracy: 0.8267\n",
      "Epoch 40/100\n",
      "10/10 [==============================] - 1s 140ms/step - loss: 0.2883 - accuracy: 0.8983 - val_loss: 0.3713 - val_accuracy: 0.8267\n",
      "Epoch 41/100\n",
      "10/10 [==============================] - 1s 139ms/step - loss: 0.2817 - accuracy: 0.9000 - val_loss: 0.3655 - val_accuracy: 0.8333\n",
      "Epoch 42/100\n",
      "10/10 [==============================] - 1s 139ms/step - loss: 0.2757 - accuracy: 0.9050 - val_loss: 0.3588 - val_accuracy: 0.8467\n",
      "Epoch 43/100\n",
      "10/10 [==============================] - 1s 137ms/step - loss: 0.2696 - accuracy: 0.9050 - val_loss: 0.3512 - val_accuracy: 0.8667\n",
      "Epoch 44/100\n",
      "10/10 [==============================] - 1s 134ms/step - loss: 0.2640 - accuracy: 0.9067 - val_loss: 0.3447 - val_accuracy: 0.8600\n",
      "Epoch 45/100\n",
      "10/10 [==============================] - 1s 132ms/step - loss: 0.2582 - accuracy: 0.9067 - val_loss: 0.3388 - val_accuracy: 0.8667\n",
      "Epoch 46/100\n",
      "10/10 [==============================] - 1s 136ms/step - loss: 0.2528 - accuracy: 0.9067 - val_loss: 0.3327 - val_accuracy: 0.8800\n",
      "Epoch 47/100\n",
      "10/10 [==============================] - 1s 132ms/step - loss: 0.2473 - accuracy: 0.9133 - val_loss: 0.3258 - val_accuracy: 0.8933\n",
      "Epoch 48/100\n",
      "10/10 [==============================] - 1s 132ms/step - loss: 0.2422 - accuracy: 0.9167 - val_loss: 0.3218 - val_accuracy: 0.8933\n",
      "Epoch 49/100\n",
      "10/10 [==============================] - 1s 132ms/step - loss: 0.2372 - accuracy: 0.9200 - val_loss: 0.3157 - val_accuracy: 0.8933\n",
      "Epoch 50/100\n",
      "10/10 [==============================] - 1s 135ms/step - loss: 0.2325 - accuracy: 0.9200 - val_loss: 0.3099 - val_accuracy: 0.8933\n",
      "Epoch 51/100\n",
      "10/10 [==============================] - 1s 136ms/step - loss: 0.2279 - accuracy: 0.9217 - val_loss: 0.3058 - val_accuracy: 0.8933\n",
      "Epoch 52/100\n",
      "10/10 [==============================] - 1s 134ms/step - loss: 0.2236 - accuracy: 0.9267 - val_loss: 0.3007 - val_accuracy: 0.9000\n",
      "Epoch 53/100\n",
      "10/10 [==============================] - 1s 132ms/step - loss: 0.2192 - accuracy: 0.9300 - val_loss: 0.2950 - val_accuracy: 0.9000\n",
      "Epoch 54/100\n",
      "10/10 [==============================] - 1s 132ms/step - loss: 0.2149 - accuracy: 0.9333 - val_loss: 0.2902 - val_accuracy: 0.9067\n",
      "Epoch 55/100\n",
      "10/10 [==============================] - 1s 126ms/step - loss: 0.2106 - accuracy: 0.9367 - val_loss: 0.2851 - val_accuracy: 0.9067\n",
      "Epoch 56/100\n",
      "10/10 [==============================] - 1s 121ms/step - loss: 0.2057 - accuracy: 0.9383 - val_loss: 0.2784 - val_accuracy: 0.9000\n",
      "Epoch 57/100\n",
      "10/10 [==============================] - 1s 127ms/step - loss: 0.2023 - accuracy: 0.9400 - val_loss: 0.2765 - val_accuracy: 0.9067\n",
      "Epoch 58/100\n",
      "10/10 [==============================] - 1s 122ms/step - loss: 0.1986 - accuracy: 0.9400 - val_loss: 0.2721 - val_accuracy: 0.9133\n",
      "Epoch 59/100\n",
      "10/10 [==============================] - 1s 126ms/step - loss: 0.1942 - accuracy: 0.9383 - val_loss: 0.2654 - val_accuracy: 0.9267\n",
      "Epoch 60/100\n"
     ]
    },
    {
     "name": "stdout",
     "output_type": "stream",
     "text": [
      "10/10 [==============================] - 1s 122ms/step - loss: 0.1903 - accuracy: 0.9433 - val_loss: 0.2612 - val_accuracy: 0.9267\n",
      "Epoch 61/100\n",
      "10/10 [==============================] - 1s 125ms/step - loss: 0.1871 - accuracy: 0.9450 - val_loss: 0.2585 - val_accuracy: 0.9267\n",
      "Epoch 62/100\n",
      "10/10 [==============================] - 1s 133ms/step - loss: 0.1839 - accuracy: 0.9467 - val_loss: 0.2540 - val_accuracy: 0.9267\n",
      "Epoch 63/100\n",
      "10/10 [==============================] - 1s 142ms/step - loss: 0.1804 - accuracy: 0.9467 - val_loss: 0.2499 - val_accuracy: 0.9267\n",
      "Epoch 64/100\n",
      "10/10 [==============================] - 1s 128ms/step - loss: 0.1776 - accuracy: 0.9500 - val_loss: 0.2475 - val_accuracy: 0.9333\n",
      "Epoch 65/100\n",
      "10/10 [==============================] - 1s 139ms/step - loss: 0.1745 - accuracy: 0.9500 - val_loss: 0.2436 - val_accuracy: 0.9400\n",
      "Epoch 66/100\n",
      "10/10 [==============================] - 1s 103ms/step - loss: 0.1718 - accuracy: 0.9500 - val_loss: 0.2406 - val_accuracy: 0.9400\n",
      "Epoch 67/100\n",
      "10/10 [==============================] - 1s 115ms/step - loss: 0.1689 - accuracy: 0.9500 - val_loss: 0.2376 - val_accuracy: 0.9400\n",
      "Epoch 68/100\n",
      "10/10 [==============================] - 2s 161ms/step - loss: 0.1661 - accuracy: 0.9517 - val_loss: 0.2351 - val_accuracy: 0.9400\n",
      "Epoch 69/100\n",
      "10/10 [==============================] - 1s 132ms/step - loss: 0.1634 - accuracy: 0.9517 - val_loss: 0.2325 - val_accuracy: 0.9400\n",
      "Epoch 70/100\n",
      "10/10 [==============================] - 1s 137ms/step - loss: 0.1608 - accuracy: 0.9517 - val_loss: 0.2301 - val_accuracy: 0.9400\n",
      "Epoch 71/100\n",
      "10/10 [==============================] - 1s 110ms/step - loss: 0.1582 - accuracy: 0.9533 - val_loss: 0.2269 - val_accuracy: 0.9400\n",
      "Epoch 72/100\n",
      "10/10 [==============================] - 1s 111ms/step - loss: 0.1559 - accuracy: 0.9533 - val_loss: 0.2243 - val_accuracy: 0.9400\n",
      "Epoch 73/100\n",
      "10/10 [==============================] - 1s 111ms/step - loss: 0.1534 - accuracy: 0.9550 - val_loss: 0.2219 - val_accuracy: 0.9467\n",
      "Epoch 74/100\n",
      "10/10 [==============================] - 1s 129ms/step - loss: 0.1510 - accuracy: 0.9567 - val_loss: 0.2190 - val_accuracy: 0.9467\n",
      "Epoch 75/100\n",
      "10/10 [==============================] - 1s 137ms/step - loss: 0.1490 - accuracy: 0.9567 - val_loss: 0.2169 - val_accuracy: 0.9467\n",
      "Epoch 76/100\n",
      "10/10 [==============================] - 1s 105ms/step - loss: 0.1467 - accuracy: 0.9583 - val_loss: 0.2148 - val_accuracy: 0.9467\n",
      "Epoch 77/100\n",
      "10/10 [==============================] - 1s 109ms/step - loss: 0.1443 - accuracy: 0.9600 - val_loss: 0.2108 - val_accuracy: 0.9467\n",
      "Epoch 78/100\n",
      "10/10 [==============================] - 1s 103ms/step - loss: 0.1422 - accuracy: 0.9600 - val_loss: 0.2098 - val_accuracy: 0.9467\n",
      "Epoch 79/100\n",
      "10/10 [==============================] - 1s 136ms/step - loss: 0.1405 - accuracy: 0.9617 - val_loss: 0.2083 - val_accuracy: 0.9467\n",
      "Epoch 80/100\n",
      "10/10 [==============================] - 1s 118ms/step - loss: 0.1383 - accuracy: 0.9617 - val_loss: 0.2049 - val_accuracy: 0.9467\n",
      "Epoch 81/100\n",
      "10/10 [==============================] - 1s 109ms/step - loss: 0.1366 - accuracy: 0.9633 - val_loss: 0.2043 - val_accuracy: 0.9467\n",
      "Epoch 82/100\n",
      "10/10 [==============================] - 1s 106ms/step - loss: 0.1346 - accuracy: 0.9633 - val_loss: 0.2011 - val_accuracy: 0.9467\n",
      "Epoch 83/100\n",
      "10/10 [==============================] - 1s 141ms/step - loss: 0.1329 - accuracy: 0.9650 - val_loss: 0.1998 - val_accuracy: 0.9467\n",
      "Epoch 84/100\n",
      "10/10 [==============================] - 1s 135ms/step - loss: 0.1311 - accuracy: 0.9650 - val_loss: 0.1982 - val_accuracy: 0.9467\n",
      "Epoch 85/100\n",
      "10/10 [==============================] - 2s 157ms/step - loss: 0.1293 - accuracy: 0.9650 - val_loss: 0.1957 - val_accuracy: 0.9467\n",
      "Epoch 86/100\n",
      "10/10 [==============================] - 1s 147ms/step - loss: 0.1276 - accuracy: 0.9650 - val_loss: 0.1936 - val_accuracy: 0.9467\n",
      "Epoch 87/100\n",
      "10/10 [==============================] - 1s 139ms/step - loss: 0.1260 - accuracy: 0.9650 - val_loss: 0.1916 - val_accuracy: 0.9533\n",
      "Epoch 88/100\n",
      "10/10 [==============================] - 1s 132ms/step - loss: 0.1244 - accuracy: 0.9667 - val_loss: 0.1905 - val_accuracy: 0.9533\n",
      "Epoch 89/100\n",
      "10/10 [==============================] - 1s 146ms/step - loss: 0.1226 - accuracy: 0.9683 - val_loss: 0.1875 - val_accuracy: 0.9533\n",
      "Epoch 90/100\n",
      "10/10 [==============================] - 1s 118ms/step - loss: 0.1211 - accuracy: 0.9683 - val_loss: 0.1862 - val_accuracy: 0.9533\n",
      "Epoch 91/100\n",
      "10/10 [==============================] - 1s 114ms/step - loss: 0.1196 - accuracy: 0.9700 - val_loss: 0.1853 - val_accuracy: 0.9533\n",
      "Epoch 92/100\n",
      "10/10 [==============================] - 1s 130ms/step - loss: 0.1179 - accuracy: 0.9717 - val_loss: 0.1827 - val_accuracy: 0.9467\n",
      "Epoch 93/100\n",
      "10/10 [==============================] - 1s 121ms/step - loss: 0.1165 - accuracy: 0.9733 - val_loss: 0.1815 - val_accuracy: 0.9467\n",
      "Epoch 94/100\n",
      "10/10 [==============================] - 1s 128ms/step - loss: 0.1152 - accuracy: 0.9733 - val_loss: 0.1804 - val_accuracy: 0.9467\n",
      "Epoch 95/100\n",
      "10/10 [==============================] - 1s 123ms/step - loss: 0.1137 - accuracy: 0.9733 - val_loss: 0.1792 - val_accuracy: 0.9467\n",
      "Epoch 96/100\n",
      "10/10 [==============================] - 1s 114ms/step - loss: 0.1122 - accuracy: 0.9733 - val_loss: 0.1766 - val_accuracy: 0.9467\n",
      "Epoch 97/100\n",
      "10/10 [==============================] - 1s 120ms/step - loss: 0.1110 - accuracy: 0.9750 - val_loss: 0.1764 - val_accuracy: 0.9467\n",
      "Epoch 98/100\n",
      "10/10 [==============================] - 1s 123ms/step - loss: 0.1099 - accuracy: 0.9750 - val_loss: 0.1754 - val_accuracy: 0.9467\n",
      "Epoch 99/100\n",
      "10/10 [==============================] - 1s 126ms/step - loss: 0.1082 - accuracy: 0.9733 - val_loss: 0.1729 - val_accuracy: 0.9467\n",
      "Epoch 100/100\n",
      "10/10 [==============================] - 1s 118ms/step - loss: 0.1071 - accuracy: 0.9750 - val_loss: 0.1726 - val_accuracy: 0.9467\n"
     ]
    }
   ],
   "source": [
    "train_dataset = tf.data.Dataset.from_tensor_slices((X_train, Y_train)).batch(64)\n",
    "test_dataset = tf.data.Dataset.from_tensor_slices((X_test, Y_test)).batch(64)\n",
    "history = conv_model.fit(train_dataset, epochs=100, validation_data=test_dataset)"
   ]
  },
  {
   "cell_type": "markdown",
   "metadata": {},
   "source": [
    "<a name='5'></a>\n",
    "## 5 - History Object \n",
    "\n",
    "The history object is an output of the `.fit()` operation, and provides a record of all the loss and metric values in memory. It's stored as a dictionary that you can retrieve at `history.history`: "
   ]
  },
  {
   "cell_type": "code",
   "execution_count": 36,
   "metadata": {},
   "outputs": [
    {
     "data": {
      "text/plain": [
       "{'loss': [0.6854745745658875,\n",
       "  0.6771925091743469,\n",
       "  0.6718301773071289,\n",
       "  0.6648395657539368,\n",
       "  0.6578789353370667,\n",
       "  0.6502830386161804,\n",
       "  0.641505241394043,\n",
       "  0.631260097026825,\n",
       "  0.6204189658164978,\n",
       "  0.6088301539421082,\n",
       "  0.5962045788764954,\n",
       "  0.582823634147644,\n",
       "  0.5688329339027405,\n",
       "  0.5545436143875122,\n",
       "  0.540228009223938,\n",
       "  0.5261061787605286,\n",
       "  0.51254802942276,\n",
       "  0.4998120665550232,\n",
       "  0.48703455924987793,\n",
       "  0.4753483533859253,\n",
       "  0.4641118347644806,\n",
       "  0.45299026370048523,\n",
       "  0.4423094093799591,\n",
       "  0.43155476450920105,\n",
       "  0.42128321528434753,\n",
       "  0.4111305773258209,\n",
       "  0.40173906087875366,\n",
       "  0.39175161719322205,\n",
       "  0.38091903924942017,\n",
       "  0.37088438868522644,\n",
       "  0.3615949749946594,\n",
       "  0.35290971398353577,\n",
       "  0.3439481258392334,\n",
       "  0.33446767926216125,\n",
       "  0.32597047090530396,\n",
       "  0.318086713552475,\n",
       "  0.31027108430862427,\n",
       "  0.302478551864624,\n",
       "  0.2952592968940735,\n",
       "  0.2882736027240753,\n",
       "  0.2817497253417969,\n",
       "  0.2756691873073578,\n",
       "  0.26963627338409424,\n",
       "  0.264005571603775,\n",
       "  0.2581818401813507,\n",
       "  0.2528197169303894,\n",
       "  0.24729235470294952,\n",
       "  0.24220289289951324,\n",
       "  0.23724187910556793,\n",
       "  0.23254351317882538,\n",
       "  0.22791771590709686,\n",
       "  0.2236199975013733,\n",
       "  0.2191893756389618,\n",
       "  0.21488100290298462,\n",
       "  0.2106199413537979,\n",
       "  0.20573395490646362,\n",
       "  0.20225828886032104,\n",
       "  0.19859318435192108,\n",
       "  0.19418777525424957,\n",
       "  0.19030410051345825,\n",
       "  0.1870812028646469,\n",
       "  0.18385344743728638,\n",
       "  0.1803838163614273,\n",
       "  0.17762812972068787,\n",
       "  0.17453868687152863,\n",
       "  0.17177052795886993,\n",
       "  0.1688518226146698,\n",
       "  0.16614891588687897,\n",
       "  0.16344335675239563,\n",
       "  0.16078297793865204,\n",
       "  0.15823039412498474,\n",
       "  0.15592269599437714,\n",
       "  0.1533878892660141,\n",
       "  0.15096864104270935,\n",
       "  0.14904911816120148,\n",
       "  0.14665232598781586,\n",
       "  0.14431524276733398,\n",
       "  0.14219613373279572,\n",
       "  0.14052508771419525,\n",
       "  0.13833147287368774,\n",
       "  0.13660933077335358,\n",
       "  0.13456906378269196,\n",
       "  0.13287952542304993,\n",
       "  0.13110797107219696,\n",
       "  0.12928198277950287,\n",
       "  0.12761133909225464,\n",
       "  0.12598314881324768,\n",
       "  0.12441032379865646,\n",
       "  0.12260887026786804,\n",
       "  0.12107264250516891,\n",
       "  0.11961840093135834,\n",
       "  0.11788026243448257,\n",
       "  0.11648289859294891,\n",
       "  0.11516860872507095,\n",
       "  0.11370149999856949,\n",
       "  0.1121678426861763,\n",
       "  0.11102773249149323,\n",
       "  0.10985969752073288,\n",
       "  0.10824257880449295,\n",
       "  0.10713311284780502],\n",
       " 'accuracy': [0.54666668176651,\n",
       "  0.6866666674613953,\n",
       "  0.7016666531562805,\n",
       "  0.75,\n",
       "  0.7716666460037231,\n",
       "  0.7799999713897705,\n",
       "  0.7749999761581421,\n",
       "  0.7716666460037231,\n",
       "  0.7816666960716248,\n",
       "  0.778333306312561,\n",
       "  0.7816666960716248,\n",
       "  0.7816666960716248,\n",
       "  0.7883333563804626,\n",
       "  0.7900000214576721,\n",
       "  0.7950000166893005,\n",
       "  0.8050000071525574,\n",
       "  0.8133333325386047,\n",
       "  0.8100000023841858,\n",
       "  0.8166666626930237,\n",
       "  0.8266666531562805,\n",
       "  0.82833331823349,\n",
       "  0.8366666436195374,\n",
       "  0.8416666388511658,\n",
       "  0.8433333039283752,\n",
       "  0.8483333587646484,\n",
       "  0.8550000190734863,\n",
       "  0.8616666793823242,\n",
       "  0.8650000095367432,\n",
       "  0.8700000047683716,\n",
       "  0.8733333349227905,\n",
       "  0.878333330154419,\n",
       "  0.8816666603088379,\n",
       "  0.8833333253860474,\n",
       "  0.8866666555404663,\n",
       "  0.8883333206176758,\n",
       "  0.8899999856948853,\n",
       "  0.8916666507720947,\n",
       "  0.8933333158493042,\n",
       "  0.8949999809265137,\n",
       "  0.8983333110809326,\n",
       "  0.8999999761581421,\n",
       "  0.9049999713897705,\n",
       "  0.9049999713897705,\n",
       "  0.9066666960716248,\n",
       "  0.9066666960716248,\n",
       "  0.9066666960716248,\n",
       "  0.9133333563804626,\n",
       "  0.9166666865348816,\n",
       "  0.9200000166893005,\n",
       "  0.9200000166893005,\n",
       "  0.92166668176651,\n",
       "  0.9266666769981384,\n",
       "  0.9300000071525574,\n",
       "  0.9333333373069763,\n",
       "  0.9366666674613953,\n",
       "  0.9383333325386047,\n",
       "  0.9399999976158142,\n",
       "  0.9399999976158142,\n",
       "  0.9383333325386047,\n",
       "  0.9433333277702332,\n",
       "  0.9449999928474426,\n",
       "  0.9466666579246521,\n",
       "  0.9466666579246521,\n",
       "  0.949999988079071,\n",
       "  0.949999988079071,\n",
       "  0.949999988079071,\n",
       "  0.949999988079071,\n",
       "  0.9516666531562805,\n",
       "  0.9516666531562805,\n",
       "  0.9516666531562805,\n",
       "  0.95333331823349,\n",
       "  0.95333331823349,\n",
       "  0.9549999833106995,\n",
       "  0.9566666483879089,\n",
       "  0.9566666483879089,\n",
       "  0.9583333134651184,\n",
       "  0.9599999785423279,\n",
       "  0.9599999785423279,\n",
       "  0.9616666436195374,\n",
       "  0.9616666436195374,\n",
       "  0.9633333086967468,\n",
       "  0.9633333086967468,\n",
       "  0.9649999737739563,\n",
       "  0.9649999737739563,\n",
       "  0.9649999737739563,\n",
       "  0.9649999737739563,\n",
       "  0.9649999737739563,\n",
       "  0.9666666388511658,\n",
       "  0.9683333039283752,\n",
       "  0.9683333039283752,\n",
       "  0.9700000286102295,\n",
       "  0.971666693687439,\n",
       "  0.9733333587646484,\n",
       "  0.9733333587646484,\n",
       "  0.9733333587646484,\n",
       "  0.9733333587646484,\n",
       "  0.9750000238418579,\n",
       "  0.9750000238418579,\n",
       "  0.9733333587646484,\n",
       "  0.9750000238418579],\n",
       " 'val_loss': [0.680371105670929,\n",
       "  0.6766534447669983,\n",
       "  0.6702431440353394,\n",
       "  0.663832426071167,\n",
       "  0.6574811935424805,\n",
       "  0.6517075896263123,\n",
       "  0.6421189308166504,\n",
       "  0.6334795951843262,\n",
       "  0.6238496899604797,\n",
       "  0.6137900948524475,\n",
       "  0.6030612587928772,\n",
       "  0.5918734669685364,\n",
       "  0.580544650554657,\n",
       "  0.5697898864746094,\n",
       "  0.558685839176178,\n",
       "  0.5497878193855286,\n",
       "  0.5415249466896057,\n",
       "  0.5324959754943848,\n",
       "  0.5246966481208801,\n",
       "  0.5179948210716248,\n",
       "  0.5106373429298401,\n",
       "  0.5039988160133362,\n",
       "  0.49666133522987366,\n",
       "  0.4886849522590637,\n",
       "  0.4823814928531647,\n",
       "  0.47548314929008484,\n",
       "  0.4703579843044281,\n",
       "  0.46082037687301636,\n",
       "  0.4515766501426697,\n",
       "  0.4457724988460541,\n",
       "  0.4397432506084442,\n",
       "  0.4327903091907501,\n",
       "  0.4226892590522766,\n",
       "  0.41560858488082886,\n",
       "  0.4094381332397461,\n",
       "  0.40174925327301025,\n",
       "  0.3938366770744324,\n",
       "  0.38620710372924805,\n",
       "  0.3780774474143982,\n",
       "  0.3712538182735443,\n",
       "  0.3654766380786896,\n",
       "  0.35875779390335083,\n",
       "  0.3512091040611267,\n",
       "  0.34468284249305725,\n",
       "  0.33882007002830505,\n",
       "  0.3327471613883972,\n",
       "  0.32583731412887573,\n",
       "  0.32177644968032837,\n",
       "  0.3157416880130768,\n",
       "  0.30989891290664673,\n",
       "  0.3058381974697113,\n",
       "  0.3006778955459595,\n",
       "  0.29499495029449463,\n",
       "  0.2901627719402313,\n",
       "  0.285050630569458,\n",
       "  0.2783881723880768,\n",
       "  0.2764889895915985,\n",
       "  0.2721278965473175,\n",
       "  0.26538020372390747,\n",
       "  0.2611989974975586,\n",
       "  0.2584930956363678,\n",
       "  0.25399160385131836,\n",
       "  0.24990211427211761,\n",
       "  0.24751129746437073,\n",
       "  0.2435767650604248,\n",
       "  0.24063599109649658,\n",
       "  0.23763173818588257,\n",
       "  0.23505431413650513,\n",
       "  0.23245859146118164,\n",
       "  0.23014439642429352,\n",
       "  0.22685816884040833,\n",
       "  0.22432154417037964,\n",
       "  0.22187009453773499,\n",
       "  0.21903063356876373,\n",
       "  0.2168600708246231,\n",
       "  0.21484611928462982,\n",
       "  0.21080097556114197,\n",
       "  0.20977744460105896,\n",
       "  0.20830129086971283,\n",
       "  0.2049238532781601,\n",
       "  0.20429718494415283,\n",
       "  0.20113836228847504,\n",
       "  0.19979731738567352,\n",
       "  0.19824358820915222,\n",
       "  0.1956891566514969,\n",
       "  0.19360867142677307,\n",
       "  0.1916193664073944,\n",
       "  0.19050730764865875,\n",
       "  0.18748322129249573,\n",
       "  0.18624348938465118,\n",
       "  0.18534916639328003,\n",
       "  0.18270210921764374,\n",
       "  0.1815156489610672,\n",
       "  0.1804312914609909,\n",
       "  0.17924213409423828,\n",
       "  0.17661315202713013,\n",
       "  0.17635618150234222,\n",
       "  0.17537133395671844,\n",
       "  0.1728929579257965,\n",
       "  0.1725880652666092],\n",
       " 'val_accuracy': [0.6733333468437195,\n",
       "  0.6399999856948853,\n",
       "  0.7200000286102295,\n",
       "  0.7400000095367432,\n",
       "  0.7400000095367432,\n",
       "  0.7400000095367432,\n",
       "  0.7333333492279053,\n",
       "  0.7266666889190674,\n",
       "  0.7266666889190674,\n",
       "  0.7266666889190674,\n",
       "  0.7266666889190674,\n",
       "  0.7333333492279053,\n",
       "  0.7333333492279053,\n",
       "  0.746666669845581,\n",
       "  0.746666669845581,\n",
       "  0.7599999904632568,\n",
       "  0.7599999904632568,\n",
       "  0.7666666507720947,\n",
       "  0.7666666507720947,\n",
       "  0.7666666507720947,\n",
       "  0.7666666507720947,\n",
       "  0.7666666507720947,\n",
       "  0.7666666507720947,\n",
       "  0.7666666507720947,\n",
       "  0.7733333110809326,\n",
       "  0.7799999713897705,\n",
       "  0.7866666913032532,\n",
       "  0.7866666913032532,\n",
       "  0.7866666913032532,\n",
       "  0.7933333516120911,\n",
       "  0.7933333516120911,\n",
       "  0.7933333516120911,\n",
       "  0.7933333516120911,\n",
       "  0.7933333516120911,\n",
       "  0.7866666913032532,\n",
       "  0.800000011920929,\n",
       "  0.8066666722297668,\n",
       "  0.8199999928474426,\n",
       "  0.8266666531562805,\n",
       "  0.8266666531562805,\n",
       "  0.8333333134651184,\n",
       "  0.846666693687439,\n",
       "  0.8666666746139526,\n",
       "  0.8600000143051147,\n",
       "  0.8666666746139526,\n",
       "  0.8799999952316284,\n",
       "  0.8933333158493042,\n",
       "  0.8933333158493042,\n",
       "  0.8933333158493042,\n",
       "  0.8933333158493042,\n",
       "  0.8933333158493042,\n",
       "  0.8999999761581421,\n",
       "  0.8999999761581421,\n",
       "  0.9066666960716248,\n",
       "  0.9066666960716248,\n",
       "  0.8999999761581421,\n",
       "  0.9066666960716248,\n",
       "  0.9133333563804626,\n",
       "  0.9266666769981384,\n",
       "  0.9266666769981384,\n",
       "  0.9266666769981384,\n",
       "  0.9266666769981384,\n",
       "  0.9266666769981384,\n",
       "  0.9333333373069763,\n",
       "  0.9399999976158142,\n",
       "  0.9399999976158142,\n",
       "  0.9399999976158142,\n",
       "  0.9399999976158142,\n",
       "  0.9399999976158142,\n",
       "  0.9399999976158142,\n",
       "  0.9399999976158142,\n",
       "  0.9399999976158142,\n",
       "  0.9466666579246521,\n",
       "  0.9466666579246521,\n",
       "  0.9466666579246521,\n",
       "  0.9466666579246521,\n",
       "  0.9466666579246521,\n",
       "  0.9466666579246521,\n",
       "  0.9466666579246521,\n",
       "  0.9466666579246521,\n",
       "  0.9466666579246521,\n",
       "  0.9466666579246521,\n",
       "  0.9466666579246521,\n",
       "  0.9466666579246521,\n",
       "  0.9466666579246521,\n",
       "  0.9466666579246521,\n",
       "  0.95333331823349,\n",
       "  0.95333331823349,\n",
       "  0.95333331823349,\n",
       "  0.95333331823349,\n",
       "  0.95333331823349,\n",
       "  0.9466666579246521,\n",
       "  0.9466666579246521,\n",
       "  0.9466666579246521,\n",
       "  0.9466666579246521,\n",
       "  0.9466666579246521,\n",
       "  0.9466666579246521,\n",
       "  0.9466666579246521,\n",
       "  0.9466666579246521,\n",
       "  0.9466666579246521]}"
      ]
     },
     "execution_count": 36,
     "metadata": {},
     "output_type": "execute_result"
    }
   ],
   "source": [
    "history.history"
   ]
  },
  {
   "cell_type": "markdown",
   "metadata": {},
   "source": [
    "Now visualize the loss over time using `history.history`: "
   ]
  },
  {
   "cell_type": "code",
   "execution_count": 37,
   "metadata": {},
   "outputs": [
    {
     "name": "stderr",
     "output_type": "stream",
     "text": [
      "/tmp/ipykernel_55731/973814028.py:5: SettingWithCopyWarning: \n",
      "A value is trying to be set on a copy of a slice from a DataFrame\n",
      "\n",
      "See the caveats in the documentation: https://pandas.pydata.org/pandas-docs/stable/user_guide/indexing.html#returning-a-view-versus-a-copy\n",
      "  df_loss.rename(columns={'loss':'train','val_loss':'validation'},inplace=True)\n",
      "/tmp/ipykernel_55731/973814028.py:7: SettingWithCopyWarning: \n",
      "A value is trying to be set on a copy of a slice from a DataFrame\n",
      "\n",
      "See the caveats in the documentation: https://pandas.pydata.org/pandas-docs/stable/user_guide/indexing.html#returning-a-view-versus-a-copy\n",
      "  df_acc.rename(columns={'accuracy':'train','val_accuracy':'validation'},inplace=True)\n"
     ]
    },
    {
     "data": {
      "text/plain": [
       "[Text(0.5, 0, 'Epoch'), Text(0, 0.5, 'Accuracy')]"
      ]
     },
     "execution_count": 37,
     "metadata": {},
     "output_type": "execute_result"
    },
    {
     "data": {
      "image/png": "[encoded data removed]",
      "text/plain": [
       "<Figure size 864x576 with 1 Axes>"
      ]
     },
     "metadata": {
      "needs_background": "light"
     },
     "output_type": "display_data"
    },
    {
     "data": {
      "image/png": "[encoded data removed]",
      "text/plain": [
       "<Figure size 864x576 with 1 Axes>"
      ]
     },
     "metadata": {
      "needs_background": "light"
     },
     "output_type": "display_data"
    }
   ],
   "source": [
    "# The history.history[\"loss\"] entry is a dictionary with as many values as epochs that the\n",
    "# model was trained on. \n",
    "df_loss_acc = pd.DataFrame(history.history)\n",
    "df_loss= df_loss_acc[['loss','val_loss']]\n",
    "df_loss.rename(columns={'loss':'train','val_loss':'validation'},inplace=True)\n",
    "df_acc= df_loss_acc[['accuracy','val_accuracy']]\n",
    "df_acc.rename(columns={'accuracy':'train','val_accuracy':'validation'},inplace=True)\n",
    "df_loss.plot(title='Model loss',figsize=(12,8)).set(xlabel='Epoch',ylabel='Loss')\n",
    "df_acc.plot(title='Model Accuracy',figsize=(12,8)).set(xlabel='Epoch',ylabel='Accuracy')"
   ]
  },
  {
   "cell_type": "markdown",
   "metadata": {},
   "source": [
    "**Congratulations**! You've finished the assignment and built two models: One that recognizes  smiles, and another that recognizes SIGN language with almost 80% accuracy on the test set. In addition to that, you now also understand the applications of two Keras APIs: Sequential and Functional. Nicely done! \n",
    "\n",
    "By now, you know a bit about how the Functional API works and may have glimpsed the possibilities. In your next assignment, you'll really get a feel for its power when you get the opportunity to build a very deep ConvNet, using ResNets! "
   ]
  },
  {
   "cell_type": "markdown",
   "metadata": {},
   "source": [
    "<a name='6'></a>\n",
    "## 6 - Bibliography\n",
    "\n",
    "You're always encouraged to read the official documentation. To that end, you can find the docs for the Sequential and Functional APIs here: \n",
    "\n",
    "https://www.tensorflow.org/guide/keras/sequential_model\n",
    "\n",
    "https://www.tensorflow.org/guide/keras/functional"
   ]
  }
 ],
 "metadata": {
  "coursera": {
   "course_slug": "convolutional-neural-networks",
   "graded_item_id": "bwbJV",
   "launcher_item_id": "0TkXB"
  },
  "kernelspec": {
   "display_name": "Python 3 (ipykernel)",
   "language": "python",
   "name": "python3"
  },
  "language_info": {
   "codemirror_mode": {
    "name": "ipython",
    "version": 3
   },
   "file_extension": ".py",
   "mimetype": "text/x-python",
   "name": "python",
   "nbconvert_exporter": "python",
   "pygments_lexer": "ipython3",
   "version": "3.9.5"
  }
 },
 "nbformat": 4,
 "nbformat_minor": 2
}
